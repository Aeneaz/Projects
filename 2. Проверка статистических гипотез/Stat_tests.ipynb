{
 "cells": [
  {
   "cell_type": "markdown",
   "id": "4c5300b0",
   "metadata": {
    "id": "4c5300b0"
   },
   "source": [
    "# Тестирование статистических гипотез"
   ]
  },
  {
   "cell_type": "markdown",
   "id": "5f4fead0",
   "metadata": {},
   "source": [
    "<b>В рамках данной работы будут затронуты и выполнены задания, связанные с предобработкой данных, постановкой и проверкой статистических гипотез, изучением распределений признаков и аппроксимацией. \n",
    "</b>"
   ]
  },
  {
   "cell_type": "markdown",
   "id": "56ec4903",
   "metadata": {},
   "source": [
    "Импортируем необходимые библиотеки:"
   ]
  },
  {
   "cell_type": "code",
   "execution_count": 2,
   "id": "5d44ec0d",
   "metadata": {},
   "outputs": [],
   "source": [
    "\n",
    "import pandas as pd\n",
    "import matplotlib.pyplot as plt\n",
    "import seaborn as sns\n",
    "import numpy as np\n",
    "import scipy as sc\n",
    "from scipy import stats as st\n",
    "from scipy.stats import norm\n",
    "import statsmodels as sm\n",
    "from statsmodels.stats.descriptivestats import sign_test\n",
    "from statsmodels.stats.proportion import proportions_ztest\n",
    "from scipy.stats import chi2_contingency\n",
    "from statsmodels import api \n",
    "\n",
    "\n",
    "sns.set_style('darkgrid')\n",
    "plt.style.use('bmh')\n",
    "\n",
    "\n",
    "import warnings\n",
    "warnings.filterwarnings('ignore')\n",
    "from statsmodels.stats.weightstats import ztest as ztest\n"
   ]
  },
  {
   "cell_type": "code",
   "execution_count": 115,
   "id": "fae847dd",
   "metadata": {},
   "outputs": [],
   "source": [
    "#Будет затронуто три датасета, информация по каждому будет описана в соответствующих пунктах в дальнейшем.\n",
    "#Заранее открою и присвою все файлы:\n",
    "\n",
    "cc = pd.read_csv('cookie_cats.csv') #Задача 2, \n",
    "bcs = pd.read_csv('banner_click_stat.csv', sep='\\t') #\n",
    "po = pd.read_csv('pokemon.csv') "
   ]
  },
  {
   "cell_type": "markdown",
   "id": "0e77ebb4",
   "metadata": {},
   "source": [
    "------------"
   ]
  },
  {
   "cell_type": "markdown",
   "id": "e463f5b5",
   "metadata": {
    "id": "e463f5b5"
   },
   "source": [
    "## Задача 1. \n",
    "\n",
    "\"В период с 2008 по 2010 год в Германии жил Осьминог Пауль, который был известен тем, что мог предсказывать результаты матчей с участием сборной Германии.\"    \n",
    "   \n",
    "В таблице ниже вы можете видеть результаты его предсказаний: \n"
   ]
  },
  {
   "cell_type": "markdown",
   "id": "63504b80",
   "metadata": {
    "id": "63504b80"
   },
   "source": [
    "<a href=\"https://ibb.co/VWnc5yG\"><img src=\"https://i.ibb.co/QFS3tBV/image.jpg\" alt=\"image\" border=\"0\"></a>"
   ]
  },
  {
   "cell_type": "markdown",
   "id": "346f6376",
   "metadata": {
    "id": "346f6376"
   },
   "source": [
    "Если считать, что случайным образом мы угадывали бы 50% матчей, то можно ли утверждать, что осьминог Пауль был талантливым экстрасенсом со способностями к предсказаниям?"
   ]
  },
  {
   "cell_type": "markdown",
   "id": "a97c3b09",
   "metadata": {
    "id": "9072470f"
   },
   "source": [
    "В задаче нас интересует гипотеза о доле с распределением бернулиевских случайных величин, соответственно стоит использовать либо Ztest о доле, либо Биноминальный тест. \n",
    "\n",
    "Поскольку выборка состоит из всего 13 наблюдений, где p = 1/2 (вероятность выбора победы или поражения), то нулевое распределение статистики таково: T~Bin(13, 0.5).\n",
    "\n",
    "<b> Н0: Осьминог Пауль угадывает, НЕ имея никаких экстрасенсорных способностей. </b>\n",
    "\n",
    "<b> Н1: Осьминог Пауль угадывает, имея экстрасенсорные способности. </b>"
   ]
  },
  {
   "cell_type": "code",
   "execution_count": 4,
   "id": "af12313e",
   "metadata": {},
   "outputs": [
    {
     "data": {
      "text/plain": [
       "0.01123046875"
      ]
     },
     "execution_count": 4,
     "metadata": {},
     "output_type": "execute_result"
    }
   ],
   "source": [
    "\n",
    "n = 13\n",
    "st.binom_test(11, n, 0.5, alternative = 'greater') # 11 матчей Пауль угадал.\n"
   ]
  },
  {
   "cell_type": "markdown",
   "id": "cf424c28",
   "metadata": {},
   "source": [
    "\n",
    "Выбор альтернативы 'greater' означает, что надо угадать 11 раз из 13. (Как и сделал осьминог Пауль).\n",
    "\n",
    "Полученное значение(p-value) = 0.01123046875, т.е. ~1.1%, значит, что: \n",
    "1. На уровнях статистической значимости 5%, 10%, <b>нулевая гипотеза отвергается в пользу альтернативной H1</b>; \n",
    "2. На уровне статистической значимости 1%, <b>нулевая гипотеза НЕ отвергается</b>; (т.к. p-value ∈ (1%; 5%)).\n",
    "\n",
    "\n",
    "Значит, при 5% или 10% стат. значимости и по имеющимся данным можно сказать, что Пауль - экстрасенс (Н1). \n",
    "\n",
    "А при 1% стат. значимости, нельзя сказать, что осьминог Пауль - экстрасенс, как и нельзя точно сказать, что никаких способностей у него нет, просто в рамках данных наблюдений при таком уровне значимости, подтвердить навыки прогнозирования не удастся.\n"
   ]
  },
  {
   "cell_type": "markdown",
   "id": "84c11b32",
   "metadata": {},
   "source": [
    "------------"
   ]
  },
  {
   "cell_type": "markdown",
   "id": "de312a8f",
   "metadata": {
    "id": "de312a8f"
   },
   "source": [
    "## Задача 2.  \n",
    "\n",
    "Новый корм для котов рекламируется с помощью рекламного баннера. Отдел маркетинга разработал для рекламы новый баннер. Они считают, что он более красивый. Перед фирмой возникла необходимость проверить какой из двух баннеров лучше.\n",
    "\n",
    "Для этого была создана специальная веб-форма. В этой веб-форме людям по очереди демонстрировали оба баннера и просили поставить лайк, если баннер нравится человеку. Если человеку нравятся оба баннера, он может поставить два лайка. Если ему не нравится ни один баннер, он может не ставить лайки вовсе. Собранные в конечном итоге данные находятся в табличке.\n",
    "\n",
    "Можно ли утверждать, что оба баннера одинаково хороши? Сформулируйте статистическую гипотезу для проверки того, что оба баннера выбирают одинаково часто. Проверьте ее и сделайте выводы.\n"
   ]
  },
  {
   "cell_type": "code",
   "execution_count": 5,
   "id": "167378f2",
   "metadata": {
    "id": "167378f2",
    "scrolled": false
   },
   "outputs": [
    {
     "data": {
      "text/html": [
       "<div>\n",
       "<style scoped>\n",
       "    .dataframe tbody tr th:only-of-type {\n",
       "        vertical-align: middle;\n",
       "    }\n",
       "\n",
       "    .dataframe tbody tr th {\n",
       "        vertical-align: top;\n",
       "    }\n",
       "\n",
       "    .dataframe thead th {\n",
       "        text-align: right;\n",
       "    }\n",
       "</style>\n",
       "<table border=\"1\" class=\"dataframe\">\n",
       "  <thead>\n",
       "    <tr style=\"text-align: right;\">\n",
       "      <th></th>\n",
       "      <th>0</th>\n",
       "      <th>0.1</th>\n",
       "    </tr>\n",
       "  </thead>\n",
       "  <tbody>\n",
       "    <tr>\n",
       "      <th>0</th>\n",
       "      <td>1</td>\n",
       "      <td>1</td>\n",
       "    </tr>\n",
       "    <tr>\n",
       "      <th>1</th>\n",
       "      <td>0</td>\n",
       "      <td>0</td>\n",
       "    </tr>\n",
       "    <tr>\n",
       "      <th>2</th>\n",
       "      <td>0</td>\n",
       "      <td>0</td>\n",
       "    </tr>\n",
       "    <tr>\n",
       "      <th>3</th>\n",
       "      <td>0</td>\n",
       "      <td>0</td>\n",
       "    </tr>\n",
       "    <tr>\n",
       "      <th>4</th>\n",
       "      <td>0</td>\n",
       "      <td>0</td>\n",
       "    </tr>\n",
       "    <tr>\n",
       "      <th>...</th>\n",
       "      <td>...</td>\n",
       "      <td>...</td>\n",
       "    </tr>\n",
       "    <tr>\n",
       "      <th>994</th>\n",
       "      <td>0</td>\n",
       "      <td>0</td>\n",
       "    </tr>\n",
       "    <tr>\n",
       "      <th>995</th>\n",
       "      <td>0</td>\n",
       "      <td>0</td>\n",
       "    </tr>\n",
       "    <tr>\n",
       "      <th>996</th>\n",
       "      <td>0</td>\n",
       "      <td>0</td>\n",
       "    </tr>\n",
       "    <tr>\n",
       "      <th>997</th>\n",
       "      <td>0</td>\n",
       "      <td>0</td>\n",
       "    </tr>\n",
       "    <tr>\n",
       "      <th>998</th>\n",
       "      <td>0</td>\n",
       "      <td>0</td>\n",
       "    </tr>\n",
       "  </tbody>\n",
       "</table>\n",
       "<p>999 rows × 2 columns</p>\n",
       "</div>"
      ],
      "text/plain": [
       "     0  0.1\n",
       "0    1    1\n",
       "1    0    0\n",
       "2    0    0\n",
       "3    0    0\n",
       "4    0    0\n",
       "..  ..  ...\n",
       "994  0    0\n",
       "995  0    0\n",
       "996  0    0\n",
       "997  0    0\n",
       "998  0    0\n",
       "\n",
       "[999 rows x 2 columns]"
      ]
     },
     "execution_count": 5,
     "metadata": {},
     "output_type": "execute_result"
    }
   ],
   "source": [
    "#bcs.info() \n",
    "#bcs.isnull().sum() # на всякий случай, проверим на наличие пропусков; (их не оказалось);\n",
    "bcs"
   ]
  },
  {
   "cell_type": "code",
   "execution_count": 6,
   "id": "1cd16e70",
   "metadata": {},
   "outputs": [
    {
     "data": {
      "text/html": [
       "<div>\n",
       "<style scoped>\n",
       "    .dataframe tbody tr th:only-of-type {\n",
       "        vertical-align: middle;\n",
       "    }\n",
       "\n",
       "    .dataframe tbody tr th {\n",
       "        vertical-align: top;\n",
       "    }\n",
       "\n",
       "    .dataframe thead th {\n",
       "        text-align: right;\n",
       "    }\n",
       "</style>\n",
       "<table border=\"1\" class=\"dataframe\">\n",
       "  <thead>\n",
       "    <tr style=\"text-align: right;\">\n",
       "      <th></th>\n",
       "      <th>1st_Banner</th>\n",
       "      <th>2nd_Banner</th>\n",
       "    </tr>\n",
       "  </thead>\n",
       "  <tbody>\n",
       "    <tr>\n",
       "      <th>0</th>\n",
       "      <td>1</td>\n",
       "      <td>1</td>\n",
       "    </tr>\n",
       "    <tr>\n",
       "      <th>1</th>\n",
       "      <td>0</td>\n",
       "      <td>0</td>\n",
       "    </tr>\n",
       "    <tr>\n",
       "      <th>2</th>\n",
       "      <td>0</td>\n",
       "      <td>0</td>\n",
       "    </tr>\n",
       "    <tr>\n",
       "      <th>3</th>\n",
       "      <td>0</td>\n",
       "      <td>0</td>\n",
       "    </tr>\n",
       "    <tr>\n",
       "      <th>4</th>\n",
       "      <td>0</td>\n",
       "      <td>0</td>\n",
       "    </tr>\n",
       "    <tr>\n",
       "      <th>5</th>\n",
       "      <td>0</td>\n",
       "      <td>0</td>\n",
       "    </tr>\n",
       "    <tr>\n",
       "      <th>6</th>\n",
       "      <td>0</td>\n",
       "      <td>0</td>\n",
       "    </tr>\n",
       "    <tr>\n",
       "      <th>7</th>\n",
       "      <td>0</td>\n",
       "      <td>0</td>\n",
       "    </tr>\n",
       "    <tr>\n",
       "      <th>8</th>\n",
       "      <td>0</td>\n",
       "      <td>0</td>\n",
       "    </tr>\n",
       "    <tr>\n",
       "      <th>9</th>\n",
       "      <td>0</td>\n",
       "      <td>0</td>\n",
       "    </tr>\n",
       "    <tr>\n",
       "      <th>10</th>\n",
       "      <td>0</td>\n",
       "      <td>0</td>\n",
       "    </tr>\n",
       "    <tr>\n",
       "      <th>11</th>\n",
       "      <td>0</td>\n",
       "      <td>0</td>\n",
       "    </tr>\n",
       "    <tr>\n",
       "      <th>12</th>\n",
       "      <td>0</td>\n",
       "      <td>0</td>\n",
       "    </tr>\n",
       "    <tr>\n",
       "      <th>13</th>\n",
       "      <td>0</td>\n",
       "      <td>0</td>\n",
       "    </tr>\n",
       "    <tr>\n",
       "      <th>14</th>\n",
       "      <td>0</td>\n",
       "      <td>0</td>\n",
       "    </tr>\n",
       "  </tbody>\n",
       "</table>\n",
       "</div>"
      ],
      "text/plain": [
       "    1st_Banner  2nd_Banner\n",
       "0            1           1\n",
       "1            0           0\n",
       "2            0           0\n",
       "3            0           0\n",
       "4            0           0\n",
       "5            0           0\n",
       "6            0           0\n",
       "7            0           0\n",
       "8            0           0\n",
       "9            0           0\n",
       "10           0           0\n",
       "11           0           0\n",
       "12           0           0\n",
       "13           0           0\n",
       "14           0           0"
      ]
     },
     "execution_count": 6,
     "metadata": {},
     "output_type": "execute_result"
    }
   ],
   "source": [
    "bcs = bcs.rename(columns={'0': '1st_Banner', '0.1': '2nd_Banner'}) #Переименуем для удобства\n",
    "bcs.head(15)"
   ]
  },
  {
   "cell_type": "code",
   "execution_count": 7,
   "id": "13760a69",
   "metadata": {},
   "outputs": [
    {
     "data": {
      "text/plain": [
       "0    962\n",
       "1     37\n",
       "Name: 1st_Banner, dtype: int64"
      ]
     },
     "execution_count": 7,
     "metadata": {},
     "output_type": "execute_result"
    }
   ],
   "source": [
    "bcs['1st_Banner'].value_counts()"
   ]
  },
  {
   "cell_type": "code",
   "execution_count": 8,
   "id": "2f7ea5fd",
   "metadata": {},
   "outputs": [
    {
     "data": {
      "text/plain": [
       "0    946\n",
       "1     53\n",
       "Name: 2nd_Banner, dtype: int64"
      ]
     },
     "execution_count": 8,
     "metadata": {},
     "output_type": "execute_result"
    }
   ],
   "source": [
    "bcs['2nd_Banner'].value_counts()"
   ]
  },
  {
   "cell_type": "code",
   "execution_count": 9,
   "id": "ed818d90",
   "metadata": {
    "scrolled": false
   },
   "outputs": [
    {
     "data": {
      "text/plain": [
       "<matplotlib.legend.Legend at 0x24da98789d0>"
      ]
     },
     "execution_count": 9,
     "metadata": {},
     "output_type": "execute_result"
    },
    {
     "data": {
      "image/png": "[encoded data removed]",
      "text/plain": [
       "<Figure size 936x576 with 1 Axes>"
      ]
     },
     "metadata": {},
     "output_type": "display_data"
    }
   ],
   "source": [
    "\n",
    "plt.figure(figsize=(13,8))\n",
    "plt.rcParams['font.size'] = 18\n",
    "plt.hist(bcs, label=['1st Banner', '2nd Banner'])\n",
    "plt.legend(loc=1, prop={'size': 21})\n",
    "\n"
   ]
  },
  {
   "cell_type": "markdown",
   "id": "d55f3e97",
   "metadata": {},
   "source": [
    "\n",
    "В данной задаче наблюдается бернулиевское распределение величин на двух больших(999 набл.) выборках, с имеющимся дисбалансом значений (нулей значительно больше, чем единиц), где требуется проверить гипотезу о доли симпатий к одному банеру и другому, при условии, что выборки независимы. \n",
    "\n",
    "С учетом всего вышесказанного, будет использоваться proportions_ztest(). \n",
    "(Тестирование предполагает сравнение долей двух выборок).\n",
    "\n",
    "<b> Н0: b2 = b1. </b> (b1 - старый банер, b2 - новый); Оба банера одинаково хороши.\n",
    "\n",
    "<b> Н1: b2 != b1. </b> Один банер лучше другого.\n"
   ]
  },
  {
   "cell_type": "code",
   "execution_count": 10,
   "id": "089c422e",
   "metadata": {},
   "outputs": [
    {
     "data": {
      "text/plain": [
       "(1.7258668408081945, 0.08437137142549557)"
      ]
     },
     "execution_count": 10,
     "metadata": {},
     "output_type": "execute_result"
    }
   ],
   "source": [
    "# Кол-во \"успехов\" == кол-ву лайков, что было посчитано выше, методом value_counts()\n",
    "\n",
    "proportions_ztest([53, 37], [999, 999], alternative='two-sided')\n"
   ]
  },
  {
   "cell_type": "markdown",
   "id": "947d2b8d",
   "metadata": {},
   "source": [
    "\n",
    "Полученное p-value = 0.08437137142549557, т.е. ~8.4%. Поскольку это значение лежит в интервале (5%; 10%), то:\n",
    "\n",
    "1. На уровне статистической значимости 10%, <b>нулевая гипотеза (Н0) отвергается в пользу альтернативной (Н1)</b>;\n",
    "Значит, что при стат. значимости 10% и при имеющихся результатах наблюдений, один банер лучше другого. \n",
    "\n",
    "2. На уровне статистической значимости 1% или 5%, <b>нулевая гипотеза не отвергается</b>; \n",
    "Значит, что на основе данных отзывов и уровнях стат. значимости 1% или 5%, нельзя сказать, что банеры отличаются друг от друга, (как и нельзя сказать, что разницы между ними точно нет). \n"
   ]
  },
  {
   "cell_type": "markdown",
   "id": "bff49ccc",
   "metadata": {},
   "source": [
    "------------"
   ]
  },
  {
   "cell_type": "markdown",
   "id": "ceefe195",
   "metadata": {
    "id": "ceefe195"
   },
   "source": [
    "## Задача 3.\n",
    "## Игра Cookie Cats"
   ]
  },
  {
   "cell_type": "markdown",
   "id": "7a6e5960",
   "metadata": {
    "id": "7a6e5960"
   },
   "source": [
    "В этом задании мы поработаем с данными Cookie Cats - популярной игры-головоломки, которую разработала компания Tactile Entertainment. В этой игре игрок должен соединять одинаковые элементы в ряд, чтобы очистить поле и выиграть уровень. https://apps.apple.com/ru/app/cookie-cats/id1078297893"
   ]
  },
  {
   "cell_type": "markdown",
   "id": "f010877f",
   "metadata": {
    "id": "f010877f"
   },
   "source": [
    "<p style=\"align: center;\"><img align=center src=\"https://i.ytimg.com/vi/iPxZIp0cbJE/maxresdefault.jpg\"  width=500></p>\n",
    " \n",
    " \n",
    "<p style=\"align: center;\"><img align=center src=\"https://s3.amazonaws.com/assets.datacamp.com/production/project_184/img/cc_gates.png\"  width=500></p>\n"
   ]
  },
  {
   "cell_type": "markdown",
   "id": "45a869f8",
   "metadata": {
    "id": "45a869f8"
   },
   "source": [
    "По мере прохождения уровней перед игроками появляются ворота, открытия которых нужно ждать какое-то время или пропускать их, совершая покупки в приложении. С точки зрения создателей эти ворота повышают интерес к игре и стимулируют к вложению денег в игру.\n"
   ]
  },
  {
   "cell_type": "markdown",
   "id": "1992bbd9",
   "metadata": {
    "id": "1992bbd9"
   },
   "source": [
    "Но у создателей появляется важный вопрос: **где лучше всего ставить ворота?**\n",
    "Первоначально первые ворота были размещены на уровне 30. Однако есть гипотеза, что лучше переместить их на уровень 40. В этом задании предлагается проанализировать результаты AB-теста, в котором создатели переместили первые ворота в Cookie Cats с 30 уровня на уровень 40. "
   ]
  },
  {
   "cell_type": "markdown",
   "id": "0178c412",
   "metadata": {
    "id": "0178c412"
   },
   "source": [
    "**Данные получены от 90 189 игроков, которые установили игру во время проведения AB-теста. Переменные:**\n",
    "\n",
    "* `userid` - уникальный номер, идентифицирующий каждого игрока.\n",
    "\n",
    "* `version` - был ли игрок помещен в контрольную группу (gate_30 - ворота на уровне 30) или в тестовую группу (gate_40 - ворота на уровне 40).\n",
    "\n",
    "* `sum_gamerounds` - количество игровых раундов, сыгранных игроком в течение первой недели после установки\n",
    "* `retention_1` - вернулся ли игрок в игру через 1 день после установки\n",
    "* `retention_7` - вернулся ли игрок в игру через 7 дней после установки\n",
    "\n",
    "Когда игрок устанавливал игру, ему случайным образом назначали `gate_30` или `gate_40`."
   ]
  },
  {
   "cell_type": "code",
   "execution_count": 11,
   "id": "5d32953b",
   "metadata": {
    "id": "5d32953b",
    "outputId": "e19bff24-d56e-419f-9197-a6169b9e1cf4"
   },
   "outputs": [
    {
     "name": "stdout",
     "output_type": "stream",
     "text": [
      "<class 'pandas.core.frame.DataFrame'>\n",
      "RangeIndex: 90189 entries, 0 to 90188\n",
      "Data columns (total 5 columns):\n",
      " #   Column          Non-Null Count  Dtype \n",
      "---  ------          --------------  ----- \n",
      " 0   userid          90189 non-null  int64 \n",
      " 1   version         90189 non-null  object\n",
      " 2   sum_gamerounds  90189 non-null  int64 \n",
      " 3   retention_1     90189 non-null  bool  \n",
      " 4   retention_7     90189 non-null  bool  \n",
      "dtypes: bool(2), int64(2), object(1)\n",
      "memory usage: 2.2+ MB\n"
     ]
    }
   ],
   "source": [
    "cc.info()"
   ]
  },
  {
   "cell_type": "code",
   "execution_count": 12,
   "id": "563bbcbb",
   "metadata": {
    "id": "563bbcbb",
    "outputId": "4467f65d-2988-455a-ebf0-ec78e3269d38"
   },
   "outputs": [
    {
     "data": {
      "text/html": [
       "<div>\n",
       "<style scoped>\n",
       "    .dataframe tbody tr th:only-of-type {\n",
       "        vertical-align: middle;\n",
       "    }\n",
       "\n",
       "    .dataframe tbody tr th {\n",
       "        vertical-align: top;\n",
       "    }\n",
       "\n",
       "    .dataframe thead th {\n",
       "        text-align: right;\n",
       "    }\n",
       "</style>\n",
       "<table border=\"1\" class=\"dataframe\">\n",
       "  <thead>\n",
       "    <tr style=\"text-align: right;\">\n",
       "      <th></th>\n",
       "      <th>userid</th>\n",
       "      <th>version</th>\n",
       "      <th>sum_gamerounds</th>\n",
       "      <th>retention_1</th>\n",
       "      <th>retention_7</th>\n",
       "    </tr>\n",
       "  </thead>\n",
       "  <tbody>\n",
       "    <tr>\n",
       "      <th>0</th>\n",
       "      <td>116</td>\n",
       "      <td>gate_30</td>\n",
       "      <td>3</td>\n",
       "      <td>False</td>\n",
       "      <td>False</td>\n",
       "    </tr>\n",
       "    <tr>\n",
       "      <th>1</th>\n",
       "      <td>337</td>\n",
       "      <td>gate_30</td>\n",
       "      <td>38</td>\n",
       "      <td>True</td>\n",
       "      <td>False</td>\n",
       "    </tr>\n",
       "    <tr>\n",
       "      <th>2</th>\n",
       "      <td>377</td>\n",
       "      <td>gate_40</td>\n",
       "      <td>165</td>\n",
       "      <td>True</td>\n",
       "      <td>False</td>\n",
       "    </tr>\n",
       "    <tr>\n",
       "      <th>3</th>\n",
       "      <td>483</td>\n",
       "      <td>gate_40</td>\n",
       "      <td>1</td>\n",
       "      <td>False</td>\n",
       "      <td>False</td>\n",
       "    </tr>\n",
       "    <tr>\n",
       "      <th>4</th>\n",
       "      <td>488</td>\n",
       "      <td>gate_40</td>\n",
       "      <td>179</td>\n",
       "      <td>True</td>\n",
       "      <td>True</td>\n",
       "    </tr>\n",
       "  </tbody>\n",
       "</table>\n",
       "</div>"
      ],
      "text/plain": [
       "   userid  version  sum_gamerounds  retention_1  retention_7\n",
       "0     116  gate_30               3        False        False\n",
       "1     337  gate_30              38         True        False\n",
       "2     377  gate_40             165         True        False\n",
       "3     483  gate_40               1        False        False\n",
       "4     488  gate_40             179         True         True"
      ]
     },
     "execution_count": 12,
     "metadata": {},
     "output_type": "execute_result"
    }
   ],
   "source": [
    "cc.head()"
   ]
  },
  {
   "cell_type": "code",
   "execution_count": 13,
   "id": "67982486",
   "metadata": {},
   "outputs": [
    {
     "data": {
      "text/plain": [
       "userid            0\n",
       "version           0\n",
       "sum_gamerounds    0\n",
       "retention_1       0\n",
       "retention_7       0\n",
       "dtype: int64"
      ]
     },
     "execution_count": 13,
     "metadata": {},
     "output_type": "execute_result"
    }
   ],
   "source": [
    "cc.isnull().sum() #проверка на пропуски (их не оказалось)."
   ]
  },
  {
   "cell_type": "code",
   "execution_count": 14,
   "id": "077e528b",
   "metadata": {},
   "outputs": [
    {
     "data": {
      "text/plain": [
       "0"
      ]
     },
     "execution_count": 14,
     "metadata": {},
     "output_type": "execute_result"
    }
   ],
   "source": [
    "cc.duplicated().sum() #проверка на дубликаты"
   ]
  },
  {
   "cell_type": "markdown",
   "id": "48087d59",
   "metadata": {},
   "source": [
    "Прежде всего, с т.ч. задания, нужно удалить тех игроков, которые не дошли до этих самых ворот. Т.е. не прошли 30 уровней, при воротах на 30ур., и не прошли 40 уровней при воротах на 40ур. Таких игроков важно удалить, тк они в рамках задачи нерепрезентативны."
   ]
  },
  {
   "cell_type": "code",
   "execution_count": 15,
   "id": "98d1760b",
   "metadata": {},
   "outputs": [
    {
     "data": {
      "text/html": [
       "<div>\n",
       "<style scoped>\n",
       "    .dataframe tbody tr th:only-of-type {\n",
       "        vertical-align: middle;\n",
       "    }\n",
       "\n",
       "    .dataframe tbody tr th {\n",
       "        vertical-align: top;\n",
       "    }\n",
       "\n",
       "    .dataframe thead th {\n",
       "        text-align: right;\n",
       "    }\n",
       "</style>\n",
       "<table border=\"1\" class=\"dataframe\">\n",
       "  <thead>\n",
       "    <tr style=\"text-align: right;\">\n",
       "      <th></th>\n",
       "      <th>userid</th>\n",
       "      <th>version</th>\n",
       "      <th>sum_gamerounds</th>\n",
       "      <th>retention_1</th>\n",
       "      <th>retention_7</th>\n",
       "    </tr>\n",
       "  </thead>\n",
       "  <tbody>\n",
       "    <tr>\n",
       "      <th>1</th>\n",
       "      <td>337</td>\n",
       "      <td>gate_30</td>\n",
       "      <td>38</td>\n",
       "      <td>True</td>\n",
       "      <td>False</td>\n",
       "    </tr>\n",
       "    <tr>\n",
       "      <th>2</th>\n",
       "      <td>377</td>\n",
       "      <td>gate_40</td>\n",
       "      <td>165</td>\n",
       "      <td>True</td>\n",
       "      <td>False</td>\n",
       "    </tr>\n",
       "    <tr>\n",
       "      <th>4</th>\n",
       "      <td>488</td>\n",
       "      <td>gate_40</td>\n",
       "      <td>179</td>\n",
       "      <td>True</td>\n",
       "      <td>True</td>\n",
       "    </tr>\n",
       "    <tr>\n",
       "      <th>5</th>\n",
       "      <td>540</td>\n",
       "      <td>gate_40</td>\n",
       "      <td>187</td>\n",
       "      <td>True</td>\n",
       "      <td>True</td>\n",
       "    </tr>\n",
       "    <tr>\n",
       "      <th>8</th>\n",
       "      <td>1574</td>\n",
       "      <td>gate_40</td>\n",
       "      <td>108</td>\n",
       "      <td>True</td>\n",
       "      <td>True</td>\n",
       "    </tr>\n",
       "    <tr>\n",
       "      <th>...</th>\n",
       "      <td>...</td>\n",
       "      <td>...</td>\n",
       "      <td>...</td>\n",
       "      <td>...</td>\n",
       "      <td>...</td>\n",
       "    </tr>\n",
       "    <tr>\n",
       "      <th>90171</th>\n",
       "      <td>9997757</td>\n",
       "      <td>gate_30</td>\n",
       "      <td>84</td>\n",
       "      <td>True</td>\n",
       "      <td>False</td>\n",
       "    </tr>\n",
       "    <tr>\n",
       "      <th>90175</th>\n",
       "      <td>9998125</td>\n",
       "      <td>gate_30</td>\n",
       "      <td>30</td>\n",
       "      <td>False</td>\n",
       "      <td>False</td>\n",
       "    </tr>\n",
       "    <tr>\n",
       "      <th>90177</th>\n",
       "      <td>9998376</td>\n",
       "      <td>gate_40</td>\n",
       "      <td>53</td>\n",
       "      <td>False</td>\n",
       "      <td>False</td>\n",
       "    </tr>\n",
       "    <tr>\n",
       "      <th>90184</th>\n",
       "      <td>9999441</td>\n",
       "      <td>gate_40</td>\n",
       "      <td>97</td>\n",
       "      <td>True</td>\n",
       "      <td>False</td>\n",
       "    </tr>\n",
       "    <tr>\n",
       "      <th>90187</th>\n",
       "      <td>9999768</td>\n",
       "      <td>gate_40</td>\n",
       "      <td>51</td>\n",
       "      <td>True</td>\n",
       "      <td>False</td>\n",
       "    </tr>\n",
       "  </tbody>\n",
       "</table>\n",
       "<p>30483 rows × 5 columns</p>\n",
       "</div>"
      ],
      "text/plain": [
       "        userid  version  sum_gamerounds  retention_1  retention_7\n",
       "1          337  gate_30              38         True        False\n",
       "2          377  gate_40             165         True        False\n",
       "4          488  gate_40             179         True         True\n",
       "5          540  gate_40             187         True         True\n",
       "8         1574  gate_40             108         True         True\n",
       "...        ...      ...             ...          ...          ...\n",
       "90171  9997757  gate_30              84         True        False\n",
       "90175  9998125  gate_30              30        False        False\n",
       "90177  9998376  gate_40              53        False        False\n",
       "90184  9999441  gate_40              97         True        False\n",
       "90187  9999768  gate_40              51         True        False\n",
       "\n",
       "[30483 rows x 5 columns]"
      ]
     },
     "execution_count": 15,
     "metadata": {},
     "output_type": "execute_result"
    }
   ],
   "source": [
    "\n",
    "cc1 = cc.loc[((cc.version == 'gate_30') & (cc.sum_gamerounds >= 30)) | ((cc.version == 'gate_40') & (cc.sum_gamerounds >= 40))]\n",
    "\n",
    "cc1 #Теперь мы избавились от тех игроков, которые даже не успели увидеть ворот.\n"
   ]
  },
  {
   "cell_type": "markdown",
   "id": "2bd5758d",
   "metadata": {
    "id": "2bd5758d"
   },
   "source": [
    "### Вопрос 1: есть ли зависимость между возвращаемостью игроков и расположением ворот?"
   ]
  },
  {
   "cell_type": "markdown",
   "id": "c5412061",
   "metadata": {
    "id": "c5412061"
   },
   "source": [
    "#### 1.1 Проверим гипотезу для возвращения через день"
   ]
  },
  {
   "cell_type": "code",
   "execution_count": 16,
   "id": "d52f0ef7",
   "metadata": {},
   "outputs": [
    {
     "data": {
      "text/plain": [
       "True     24820\n",
       "False     5663\n",
       "Name: retention_1, dtype: int64"
      ]
     },
     "execution_count": 16,
     "metadata": {},
     "output_type": "execute_result"
    }
   ],
   "source": [
    "cc1.retention_1.value_counts() #проверка на кол-во False(5663) и True(24820);"
   ]
  },
  {
   "cell_type": "markdown",
   "id": "9902ecfb",
   "metadata": {},
   "source": [
    "\n",
    "В задаче требуется рассмотреть зависимость/независимость категориальных признаков, т.е. следует использовать Критерий независимости хи-квадрат Пирсона.\n",
    "\n",
    "<b> => команда stats.chi2_contingency(X, correction=False). </b> \n",
    "\n",
    "Сформулируем гипотезы:\n",
    "\n",
    "<b> Н0: Кол-во людей, вернувшихся через день, не зависит от расположения ворот. </b> \n",
    "\n",
    "<b> Н1: Кол-во людей, вернувшихся через день, зависит от расположения ворот. </b>\n",
    "\n"
   ]
  },
  {
   "cell_type": "code",
   "execution_count": 17,
   "id": "a2b4a81d",
   "metadata": {},
   "outputs": [
    {
     "data": {
      "text/plain": [
       "(42.62954254122583,\n",
       " 6.615268090521592e-11,\n",
       " 1,\n",
       " array([[ 3094.27969688, 13561.72030312],\n",
       "        [ 2568.72030312, 11258.27969688]]))"
      ]
     },
     "execution_count": 17,
     "metadata": {},
     "output_type": "execute_result"
    }
   ],
   "source": [
    "\n",
    "\n",
    "sc.stats.chi2_contingency(cc1.groupby('version')['retention_1'].value_counts().unstack(), correction=False) \n",
    "\n"
   ]
  },
  {
   "cell_type": "markdown",
   "id": "c2762aa3",
   "metadata": {},
   "source": [
    "\n",
    "P-value = 6.615268090521592e-11, т.е. это ~6.615268090521592e-9%. \n",
    "Значит, что <b> на всех разумных уровнях значимости нулевая гипотеза (Н0) отвергается в пользу альтернативной гипотезы (Н1).</b> Т.к. (p.value < 1%).\n",
    "\n",
    "Т.е. зависимость между категориальными переменными есть, т.е. расположение ворот влияет на возвращаемость аудитории через день.\n",
    "\n"
   ]
  },
  {
   "cell_type": "markdown",
   "id": "15ebcdad",
   "metadata": {
    "id": "15ebcdad"
   },
   "source": [
    "#### 1.2 Проверьте гипотезу для возвращения через семь дней"
   ]
  },
  {
   "cell_type": "markdown",
   "id": "5d66c336",
   "metadata": {},
   "source": [
    "Тут нужно будет повторить тоже самое, что и сверху, только с другой переменной, поэтому не буду объяснять выбор теста и тд.\n",
    "\n",
    "Сформулируем гипотезы:\n",
    "\n",
    "<b> Н0: Кол-во людей, вернувшихся через 7 дней, не зависит от расположения ворот. </b> \n",
    "\n",
    "<b> Н1: Кол-во людей, вернувшихся через 7 дней, зависит от расположения ворот. </b>\n"
   ]
  },
  {
   "cell_type": "code",
   "execution_count": 18,
   "id": "1703de87",
   "metadata": {
    "id": "1703de87"
   },
   "outputs": [
    {
     "data": {
      "text/plain": [
       "(65.21860928016119,\n",
       " 6.70335137773422e-16,\n",
       " 1,\n",
       " array([[8998.16317292, 7657.83682708],\n",
       "        [7469.83682708, 6357.16317292]]))"
      ]
     },
     "execution_count": 18,
     "metadata": {},
     "output_type": "execute_result"
    }
   ],
   "source": [
    "\n",
    "sc.stats.chi2_contingency(cc1.groupby('version')['retention_7'].value_counts().unstack(), correction=False)\n",
    "\n"
   ]
  },
  {
   "cell_type": "markdown",
   "id": "118f5629",
   "metadata": {},
   "source": [
    "\n",
    "P-value = 6.70335137773422e-16, т.е. ~6.70335137773422e-14%. \n",
    "Значит, что <b> на всех разумных уровнях значимости нулевая гипотеза (Н0) отвергается в пользу альтернативной гипотезы (Н1).</b> Т.к. (p.value < 1%). \n",
    "\n",
    "Т.е. зависимость между категориальными переменными есть, т.е. расположение ворот влияет на возвращаемость аудитории через 7 дней.\n"
   ]
  },
  {
   "cell_type": "markdown",
   "id": "498a3f1d",
   "metadata": {
    "id": "498a3f1d"
   },
   "source": [
    "### Вопрос 2: Отличается ли среднее количество раундов в группах gate_40 и gate_30?"
   ]
  },
  {
   "cell_type": "code",
   "execution_count": 19,
   "id": "d6fdc5a6",
   "metadata": {},
   "outputs": [
    {
     "data": {
      "text/plain": [
       "(90189, 5)"
      ]
     },
     "execution_count": 19,
     "metadata": {},
     "output_type": "execute_result"
    }
   ],
   "source": [
    "cc.shape #Кол-во наблюдений = 90189 (большая выборка)"
   ]
  },
  {
   "cell_type": "code",
   "execution_count": 20,
   "id": "9ea59646",
   "metadata": {},
   "outputs": [
    {
     "data": {
      "text/plain": [
       "(90189, 5)"
      ]
     },
     "execution_count": 20,
     "metadata": {},
     "output_type": "execute_result"
    }
   ],
   "source": [
    "cc = cc.drop_duplicates(subset='userid')\n",
    "cc.shape #Проверю не встречаются ли некоторые пользователи повторно.\n",
    "\n",
    "#Т.к. размеры получились одинаковыми, то повторяющихся пользователей нет"
   ]
  },
  {
   "cell_type": "code",
   "execution_count": 21,
   "id": "1dadc892",
   "metadata": {},
   "outputs": [],
   "source": [
    "#Выделим необходимые выборки:\n",
    "\n",
    "x30, x40 = (cc.loc[cc.version == 'gate_30']['sum_gamerounds']), cc.loc[cc.version == 'gate_40']['sum_gamerounds']\n"
   ]
  },
  {
   "cell_type": "code",
   "execution_count": 22,
   "id": "861683cd",
   "metadata": {},
   "outputs": [
    {
     "data": {
      "text/plain": [
       "Text(0.5, 1.0, 'Gate 40')"
      ]
     },
     "execution_count": 22,
     "metadata": {},
     "output_type": "execute_result"
    },
    {
     "data": {
      "image/png": "[encoded data removed]",
      "text/plain": [
       "<Figure size 1008x360 with 2 Axes>"
      ]
     },
     "metadata": {},
     "output_type": "display_data"
    }
   ],
   "source": [
    "#Рассмотрим распределение данных выборок:\n",
    "\n",
    "fig, ax = plt.subplots(1, 2, figsize = (14, 5))\n",
    "fig.suptitle('Демонстрация ненормальности распределения', fontsize=20)\n",
    "fig.tight_layout(h_pad=2.5, w_pad=3)\n",
    "\n",
    "plt.rcParams['font.size'] = 18\n",
    "\n",
    "ax[0].hist(x30, color='#F08080')\n",
    "ax[0].set_title('Gate 30', fontsize=19)\n",
    "\n",
    "ax[1].hist(x40, color='#F08080')\n",
    "ax[1].set_title('Gate 40', fontsize=19)\n",
    "\n",
    "\n",
    "#Как видно, распределения являются ненормальными."
   ]
  },
  {
   "cell_type": "code",
   "execution_count": 23,
   "id": "8d228168",
   "metadata": {},
   "outputs": [
    {
     "data": {
      "text/plain": [
       "Text(0.5, 1.0, 'Gate 40')"
      ]
     },
     "execution_count": 23,
     "metadata": {},
     "output_type": "execute_result"
    },
    {
     "data": {
      "image/png": "[encoded data removed]",
      "text/plain": [
       "<Figure size 1008x360 with 2 Axes>"
      ]
     },
     "metadata": {},
     "output_type": "display_data"
    }
   ],
   "source": [
    "#У данных с воротами на 30 урвоне, есть очень большой выброс...\n",
    "#Попробуем посмотреть на распределение этих данных без этого выброса:\n",
    "\n",
    "x30_test = x30[x30 != max(x30)]\n",
    "\n",
    "fig, ax = plt.subplots(1, 2, figsize = (14, 5), sharex=True)\n",
    "fig.suptitle('Демонстрация ненормальности распределения', fontsize=20)\n",
    "fig.tight_layout(h_pad=2.5, w_pad=3)\n",
    "\n",
    "ax[0].hist(x30_test, color='#F08080')\n",
    "ax[0].set_title('Gate 30 test', fontsize=19)\n",
    "\n",
    "ax[1].hist(x40, color='#F08080')\n",
    "ax[1].set_title('Gate 40', fontsize=19)\n",
    "\n",
    "\n",
    "#Так картинка выглядит чуть понятнее"
   ]
  },
  {
   "cell_type": "code",
   "execution_count": 24,
   "id": "417f5b92",
   "metadata": {},
   "outputs": [],
   "source": [
    "#Попробуем отфильтровать данные, чтобы приблизить их к нормальному распределнию\n",
    "#Прологарифмируем признаки:\n",
    "x30 = (x30.apply(lambda x: np.log(2*x**2) if x != 0 else np.nan)).dropna()\n",
    "x40 = (x40.apply(lambda x: np.log(2*x**2) if x != 0 else np.nan)).dropna()"
   ]
  },
  {
   "cell_type": "code",
   "execution_count": 25,
   "id": "7759b576",
   "metadata": {},
   "outputs": [
    {
     "data": {
      "text/plain": [
       "Text(0.5, 1.0, 'Gate 40')"
      ]
     },
     "execution_count": 25,
     "metadata": {},
     "output_type": "execute_result"
    },
    {
     "data": {
      "image/png": "[encoded data removed]",
      "text/plain": [
       "<Figure size 1080x360 with 2 Axes>"
      ]
     },
     "metadata": {},
     "output_type": "display_data"
    }
   ],
   "source": [
    "\n",
    "fig, ax = plt.subplots(1, 2, figsize = (15, 5), sharex=True, sharey=True)\n",
    "fig.suptitle('Демонстрация распределения логарифмированных значений', fontsize=20)\n",
    "fig.tight_layout(h_pad=3)\n",
    "\n",
    "ax[0].hist(x30, bins=20, color='#F08080')\n",
    "ax[0].set_title('Gate 30', fontsize=19)\n",
    "\n",
    "ax[1].hist(x40, bins=20, color='#F08080')\n",
    "ax[1].set_title('Gate 40', fontsize=19)\n",
    "\n"
   ]
  },
  {
   "cell_type": "markdown",
   "id": "246ea477",
   "metadata": {},
   "source": [
    "\n",
    "<b> Теперь распределение больше напоминает нормальное, но погрешность все равно присутствует, поэтому итоговые результаты проверки гипотез будут неточными. </b>\n",
    "\n"
   ]
  },
  {
   "cell_type": "markdown",
   "id": "2eeb9051",
   "metadata": {},
   "source": [
    "\n",
    "Необходимо проверить гипотезу о средних на большой выборке. Данные по gate_40 и gate_30 не связаны между собой.  \n",
    "Поскольку в задаче не дана информация по дисперсии ген. совокупности, то следует использовать t-test (ttest_ind) (для двух независимых выборок: проверка разницы средних двух выборок). \n",
    "\n",
    "Данные были отфильтрованы, чтобы как можно больше приблизиться к нормальному распределению.\n",
    "\n",
    "\n",
    "Сформулируем гипотезы:\n",
    "\n",
    "<b> Н0: μ1 = μ2. </b>  Среднее кол-во раундов в группах gate_40 и gate_30 НЕ отличается. т.е. равно. \n",
    "\n",
    "<b> Н1: μ1 != μ2. </b> Среднее кол-во раундов в группах gate_40 и gate_30 отличается. т.е. не равно.\n"
   ]
  },
  {
   "cell_type": "code",
   "execution_count": 26,
   "id": "1ed9e3a1",
   "metadata": {},
   "outputs": [
    {
     "data": {
      "text/plain": [
       "(1.4429073544976891, 0.14905020507739208)"
      ]
     },
     "execution_count": 26,
     "metadata": {},
     "output_type": "execute_result"
    }
   ],
   "source": [
    "\n",
    "t, pv = sc.stats.ttest_ind(x30, x40, alternative='two-sided')\n",
    "t, pv \n"
   ]
  },
  {
   "cell_type": "markdown",
   "id": "f998eb47",
   "metadata": {},
   "source": [
    "\n",
    "\n",
    "P-value = 0.14905020507739208, т.е. ~14.9%. \n",
    "\n",
    "Значит, что <b> на всех разумных уровнях значимости нулевая гипотеза НЕ отвергается </b>, т.к. вероятность ошибки первого рода слишком большая.\n",
    "\n",
    "Получается, что на основе данных наблюдений нельзя сделать вывод о неравенстве средних кол-в пройденных уровней в группах gate_40 и gate_30. \n",
    "\n",
    "Т.е. расположение ворот не оказало влияния на кол-во проходимых уровней.\n",
    "\n",
    "\n"
   ]
  },
  {
   "cell_type": "markdown",
   "id": "e236e864",
   "metadata": {
    "id": "e236e864"
   },
   "source": [
    "### Вопрос 3: Отличается ли медианное количество раундов в группах gate_40 и gate_30?"
   ]
  },
  {
   "cell_type": "markdown",
   "id": "efd3ffbe",
   "metadata": {},
   "source": [
    "\n",
    "\n",
    "Поскольку речь о сравнении медианных значений в группах gate_40 и gate_30, которые независимы между собой.\n",
    "\n",
    "Соответственно, воспользуемся Критерием Манна-Уитни.\n",
    "Команда: mannwhitneyu().\n",
    "\n",
    "Сформулируем гипотезы:\n",
    "\n",
    "<b> Н0: Медианы выборок равны. </b>  \n",
    "\n",
    "<b> Н1: Медианы выборок не равны. </b> \n",
    "\n",
    "\n",
    "https://www.reneshbedre.com/blog/mann-whitney-u-test.html"
   ]
  },
  {
   "cell_type": "markdown",
   "id": "dbb6bf1b",
   "metadata": {},
   "source": [
    "Использование Критерия Манна-Уитни для сравнения медиан уместно тогда, когда выборки имеют подобное распределение (https://www.reneshbedre.com/blog/mann-whitney-u-test.html). Как видно по графику, который был сделан в предыдущем задании, такое условие удовлетворяется. (на всякий случай, продублирую график ниже)."
   ]
  },
  {
   "cell_type": "code",
   "execution_count": 27,
   "id": "bd86ca02",
   "metadata": {},
   "outputs": [
    {
     "data": {
      "text/plain": [
       "Text(0.5, 1.0, 'Gate 40')"
      ]
     },
     "execution_count": 27,
     "metadata": {},
     "output_type": "execute_result"
    },
    {
     "data": {
      "image/png": "[encoded data removed]",
      "text/plain": [
       "<Figure size 1080x360 with 2 Axes>"
      ]
     },
     "metadata": {},
     "output_type": "display_data"
    }
   ],
   "source": [
    "\n",
    "fig, ax = plt.subplots(1, 2, figsize = (15, 5), sharex=True, sharey=True)\n",
    "fig.suptitle('Демонстрация распределения логарифмированных значений', fontsize=20)\n",
    "fig.tight_layout(h_pad=3)\n",
    "\n",
    "ax[0].hist(x30, bins=20, color='#F08080')\n",
    "ax[0].set_title('Gate 30', fontsize=19)\n",
    "\n",
    "ax[1].hist(x40, bins=20, color='#F08080')\n",
    "ax[1].set_title('Gate 40', fontsize=19)\n",
    "\n"
   ]
  },
  {
   "cell_type": "code",
   "execution_count": 28,
   "id": "96d783c5",
   "metadata": {},
   "outputs": [],
   "source": [
    "#Стоит отметить, что медианы и средние значения выборок очень близки:\n",
    "\n",
    "#x30.describe() #Вывод: (mean = 6.472644, median = 6.473891);\n",
    "#x40.describe() #Вывод: (mean = 6.442233, median = 6.473891); \n"
   ]
  },
  {
   "cell_type": "markdown",
   "id": "6426caed",
   "metadata": {},
   "source": [
    "Получается, что, если медиана и среднее значение в рамках каждой выборки приблизительно равны, то результаты сравнения медиан приблизительно <=> результатам сравнения средних.\n",
    "\n",
    "В предыдущем задании была такая же выборка, и так же двустороняя гипотеза, как и здесь, соответственно, результат проверки данной гипотезы, скорее всего, будет о Неотвержении нулевой гипотезы."
   ]
  },
  {
   "cell_type": "code",
   "execution_count": 29,
   "id": "ad3d0c89",
   "metadata": {},
   "outputs": [
    {
     "data": {
      "text/plain": [
       "MannwhitneyuResult(statistic=934375555.0, pvalue=0.11628458958498972)"
      ]
     },
     "execution_count": 29,
     "metadata": {},
     "output_type": "execute_result"
    }
   ],
   "source": [
    "#Проверим, используя тест:\n",
    "\n",
    "sc.stats.mannwhitneyu(x30, x40, alternative='two-sided')\n",
    "\n"
   ]
  },
  {
   "cell_type": "markdown",
   "id": "06e91a6e",
   "metadata": {},
   "source": [
    "\n",
    "\n",
    "P-value = 0.11628458958498972, т.е. ~11.62%.\n",
    "\n",
    "Значит, что <b> на всех разумных уровнях значимости нулевая гипотеза (Н0) НЕ отвергается </b>, т.е. на основе имеющихся наблюдений нельзя сделать вывод, что медианы кол-в раундов групп gate_30 и gate_40 отличаются. \n",
    "\n",
    "Расположение ворот не влияет на медианное кол-во уровней, пройденных пользователями.\n",
    "\n",
    "\n",
    "\n"
   ]
  },
  {
   "cell_type": "markdown",
   "id": "ebe75c78",
   "metadata": {},
   "source": [
    "------------"
   ]
  },
  {
   "cell_type": "markdown",
   "id": "03f0c2b4",
   "metadata": {
    "id": "03f0c2b4"
   },
   "source": [
    "## Задача 4."
   ]
  },
  {
   "cell_type": "markdown",
   "id": "413f4923",
   "metadata": {
    "id": "413f4923"
   },
   "source": [
    "В данной задаче будет необходимо проанализировать различные характеристики покемонов и сравнить их между собой"
   ]
  },
  {
   "cell_type": "markdown",
   "id": "1810bfee",
   "metadata": {
    "id": "1810bfee"
   },
   "source": [
    "\"Покемоны - это маленькие существа, которые сражаются друг с другом на соревнованиях. Все покемоны имеют разные характеристики (сила атаки, защиты и т. д.) и относятся к одному или двум так называемым классам (вода, огонь и т. д.). Профессор Оук является изобретателем Pokedex, портативного устройства, которое хранит информацию обо всех существующих покемонах. Как его ведущий специалист по данным, Вы только что получили от него запрос с просьбой осуществить аналитику данных на всех устройствах Pokedex.\""
   ]
  },
  {
   "cell_type": "markdown",
   "id": "19045811",
   "metadata": {
    "id": "19045811"
   },
   "source": [
    "### Описание данных\n",
    "\n",
    "Профессор Оук скопировал все содержимое память одного устройства Pokedex, в результате чего получился набор данных, с которым Вы будете работать в этой задаче. В этом файле каждая строка представляет характеристики одного покемона:\n",
    "\n",
    "* pid: Numeric - ID покемона\n",
    "* HP: Numeric - Очки здоровья\n",
    "* Attack: Numeric - Сила обычной атаки\n",
    "* Defense: Numeric - Сила обычной защиты\n",
    "* Sp. Atk: Numeric - Сила специальной атаки\n",
    "* Sp. Def: Numeric - Сила специальной защиты\n",
    "* Speed: Numeric - Скорость движений\n",
    "* Legendary: Boolean - «True», если покемон редкий\n",
    "* Class 1: Categorical - Класс покемона\n",
    "* Class 2: Categorical - Класс покемона"
   ]
  },
  {
   "cell_type": "code",
   "execution_count": 30,
   "id": "19224d33",
   "metadata": {},
   "outputs": [
    {
     "name": "stdout",
     "output_type": "stream",
     "text": [
      "<class 'pandas.core.frame.DataFrame'>\n",
      "RangeIndex: 800 entries, 0 to 799\n",
      "Data columns (total 11 columns):\n",
      " #   Column     Non-Null Count  Dtype \n",
      "---  ------     --------------  ----- \n",
      " 0   pid        800 non-null    int64 \n",
      " 1   Name       799 non-null    object\n",
      " 2   Class 1    800 non-null    object\n",
      " 3   Class 2    414 non-null    object\n",
      " 4   HP         800 non-null    int64 \n",
      " 5   Attack     800 non-null    int64 \n",
      " 6   Defense    800 non-null    int64 \n",
      " 7   Sp. Atk    800 non-null    int64 \n",
      " 8   Sp. Def    800 non-null    int64 \n",
      " 9   Speed      800 non-null    int64 \n",
      " 10  Legendary  800 non-null    bool  \n",
      "dtypes: bool(1), int64(7), object(3)\n",
      "memory usage: 63.4+ KB\n"
     ]
    }
   ],
   "source": [
    "po.info()"
   ]
  },
  {
   "cell_type": "code",
   "execution_count": 31,
   "id": "d9710b8b",
   "metadata": {},
   "outputs": [
    {
     "data": {
      "text/plain": [
       "(800, 11)"
      ]
     },
     "execution_count": 31,
     "metadata": {},
     "output_type": "execute_result"
    }
   ],
   "source": [
    "po.shape"
   ]
  },
  {
   "cell_type": "code",
   "execution_count": 32,
   "id": "b9df0eb2",
   "metadata": {
    "scrolled": true
   },
   "outputs": [
    {
     "data": {
      "text/html": [
       "<div>\n",
       "<style scoped>\n",
       "    .dataframe tbody tr th:only-of-type {\n",
       "        vertical-align: middle;\n",
       "    }\n",
       "\n",
       "    .dataframe tbody tr th {\n",
       "        vertical-align: top;\n",
       "    }\n",
       "\n",
       "    .dataframe thead th {\n",
       "        text-align: right;\n",
       "    }\n",
       "</style>\n",
       "<table border=\"1\" class=\"dataframe\">\n",
       "  <thead>\n",
       "    <tr style=\"text-align: right;\">\n",
       "      <th></th>\n",
       "      <th>pid</th>\n",
       "      <th>Name</th>\n",
       "      <th>Class 1</th>\n",
       "      <th>Class 2</th>\n",
       "      <th>HP</th>\n",
       "      <th>Attack</th>\n",
       "      <th>Defense</th>\n",
       "      <th>Sp. Atk</th>\n",
       "      <th>Sp. Def</th>\n",
       "      <th>Speed</th>\n",
       "      <th>Legendary</th>\n",
       "    </tr>\n",
       "  </thead>\n",
       "  <tbody>\n",
       "    <tr>\n",
       "      <th>0</th>\n",
       "      <td>1</td>\n",
       "      <td>Bulbasaur</td>\n",
       "      <td>Grass</td>\n",
       "      <td>Poison</td>\n",
       "      <td>45</td>\n",
       "      <td>49</td>\n",
       "      <td>49</td>\n",
       "      <td>65</td>\n",
       "      <td>65</td>\n",
       "      <td>45</td>\n",
       "      <td>False</td>\n",
       "    </tr>\n",
       "    <tr>\n",
       "      <th>1</th>\n",
       "      <td>2</td>\n",
       "      <td>Ivysaur</td>\n",
       "      <td>Grass</td>\n",
       "      <td>Poison</td>\n",
       "      <td>60</td>\n",
       "      <td>62</td>\n",
       "      <td>63</td>\n",
       "      <td>80</td>\n",
       "      <td>80</td>\n",
       "      <td>60</td>\n",
       "      <td>False</td>\n",
       "    </tr>\n",
       "    <tr>\n",
       "      <th>2</th>\n",
       "      <td>3</td>\n",
       "      <td>Venusaur</td>\n",
       "      <td>Grass</td>\n",
       "      <td>Poison</td>\n",
       "      <td>80</td>\n",
       "      <td>82</td>\n",
       "      <td>83</td>\n",
       "      <td>100</td>\n",
       "      <td>100</td>\n",
       "      <td>80</td>\n",
       "      <td>False</td>\n",
       "    </tr>\n",
       "    <tr>\n",
       "      <th>3</th>\n",
       "      <td>4</td>\n",
       "      <td>Mega Venusaur</td>\n",
       "      <td>Grass</td>\n",
       "      <td>Poison</td>\n",
       "      <td>80</td>\n",
       "      <td>100</td>\n",
       "      <td>123</td>\n",
       "      <td>122</td>\n",
       "      <td>120</td>\n",
       "      <td>80</td>\n",
       "      <td>False</td>\n",
       "    </tr>\n",
       "    <tr>\n",
       "      <th>4</th>\n",
       "      <td>5</td>\n",
       "      <td>Charmander</td>\n",
       "      <td>Fire</td>\n",
       "      <td>NaN</td>\n",
       "      <td>39</td>\n",
       "      <td>52</td>\n",
       "      <td>43</td>\n",
       "      <td>60</td>\n",
       "      <td>50</td>\n",
       "      <td>65</td>\n",
       "      <td>False</td>\n",
       "    </tr>\n",
       "    <tr>\n",
       "      <th>5</th>\n",
       "      <td>6</td>\n",
       "      <td>Charmeleon</td>\n",
       "      <td>Fire</td>\n",
       "      <td>NaN</td>\n",
       "      <td>58</td>\n",
       "      <td>64</td>\n",
       "      <td>58</td>\n",
       "      <td>80</td>\n",
       "      <td>65</td>\n",
       "      <td>80</td>\n",
       "      <td>False</td>\n",
       "    </tr>\n",
       "    <tr>\n",
       "      <th>6</th>\n",
       "      <td>7</td>\n",
       "      <td>Charizard</td>\n",
       "      <td>Fire</td>\n",
       "      <td>Flying</td>\n",
       "      <td>78</td>\n",
       "      <td>84</td>\n",
       "      <td>78</td>\n",
       "      <td>109</td>\n",
       "      <td>85</td>\n",
       "      <td>100</td>\n",
       "      <td>False</td>\n",
       "    </tr>\n",
       "    <tr>\n",
       "      <th>7</th>\n",
       "      <td>8</td>\n",
       "      <td>Mega Charizard X</td>\n",
       "      <td>Fire</td>\n",
       "      <td>Dragon</td>\n",
       "      <td>78</td>\n",
       "      <td>130</td>\n",
       "      <td>111</td>\n",
       "      <td>130</td>\n",
       "      <td>85</td>\n",
       "      <td>100</td>\n",
       "      <td>False</td>\n",
       "    </tr>\n",
       "    <tr>\n",
       "      <th>8</th>\n",
       "      <td>9</td>\n",
       "      <td>Mega Charizard Y</td>\n",
       "      <td>Fire</td>\n",
       "      <td>Flying</td>\n",
       "      <td>78</td>\n",
       "      <td>104</td>\n",
       "      <td>78</td>\n",
       "      <td>159</td>\n",
       "      <td>115</td>\n",
       "      <td>100</td>\n",
       "      <td>False</td>\n",
       "    </tr>\n",
       "    <tr>\n",
       "      <th>9</th>\n",
       "      <td>10</td>\n",
       "      <td>Squirtle</td>\n",
       "      <td>Water</td>\n",
       "      <td>NaN</td>\n",
       "      <td>44</td>\n",
       "      <td>48</td>\n",
       "      <td>65</td>\n",
       "      <td>50</td>\n",
       "      <td>64</td>\n",
       "      <td>43</td>\n",
       "      <td>False</td>\n",
       "    </tr>\n",
       "    <tr>\n",
       "      <th>10</th>\n",
       "      <td>11</td>\n",
       "      <td>Wartortle</td>\n",
       "      <td>Water</td>\n",
       "      <td>NaN</td>\n",
       "      <td>59</td>\n",
       "      <td>63</td>\n",
       "      <td>80</td>\n",
       "      <td>65</td>\n",
       "      <td>80</td>\n",
       "      <td>58</td>\n",
       "      <td>False</td>\n",
       "    </tr>\n",
       "    <tr>\n",
       "      <th>11</th>\n",
       "      <td>12</td>\n",
       "      <td>Blastoise</td>\n",
       "      <td>Water</td>\n",
       "      <td>NaN</td>\n",
       "      <td>79</td>\n",
       "      <td>83</td>\n",
       "      <td>100</td>\n",
       "      <td>85</td>\n",
       "      <td>105</td>\n",
       "      <td>78</td>\n",
       "      <td>False</td>\n",
       "    </tr>\n",
       "    <tr>\n",
       "      <th>12</th>\n",
       "      <td>13</td>\n",
       "      <td>Mega Blastoise</td>\n",
       "      <td>Water</td>\n",
       "      <td>NaN</td>\n",
       "      <td>79</td>\n",
       "      <td>103</td>\n",
       "      <td>120</td>\n",
       "      <td>135</td>\n",
       "      <td>115</td>\n",
       "      <td>78</td>\n",
       "      <td>False</td>\n",
       "    </tr>\n",
       "    <tr>\n",
       "      <th>13</th>\n",
       "      <td>14</td>\n",
       "      <td>Caterpie</td>\n",
       "      <td>Bug</td>\n",
       "      <td>NaN</td>\n",
       "      <td>45</td>\n",
       "      <td>30</td>\n",
       "      <td>35</td>\n",
       "      <td>20</td>\n",
       "      <td>20</td>\n",
       "      <td>45</td>\n",
       "      <td>False</td>\n",
       "    </tr>\n",
       "    <tr>\n",
       "      <th>14</th>\n",
       "      <td>15</td>\n",
       "      <td>Metapod</td>\n",
       "      <td>Bug</td>\n",
       "      <td>NaN</td>\n",
       "      <td>50</td>\n",
       "      <td>20</td>\n",
       "      <td>55</td>\n",
       "      <td>25</td>\n",
       "      <td>25</td>\n",
       "      <td>30</td>\n",
       "      <td>False</td>\n",
       "    </tr>\n",
       "  </tbody>\n",
       "</table>\n",
       "</div>"
      ],
      "text/plain": [
       "    pid              Name Class 1 Class 2  HP  Attack  Defense  Sp. Atk  \\\n",
       "0     1         Bulbasaur   Grass  Poison  45      49       49       65   \n",
       "1     2           Ivysaur   Grass  Poison  60      62       63       80   \n",
       "2     3          Venusaur   Grass  Poison  80      82       83      100   \n",
       "3     4     Mega Venusaur   Grass  Poison  80     100      123      122   \n",
       "4     5        Charmander    Fire     NaN  39      52       43       60   \n",
       "5     6        Charmeleon    Fire     NaN  58      64       58       80   \n",
       "6     7         Charizard    Fire  Flying  78      84       78      109   \n",
       "7     8  Mega Charizard X    Fire  Dragon  78     130      111      130   \n",
       "8     9  Mega Charizard Y    Fire  Flying  78     104       78      159   \n",
       "9    10          Squirtle   Water     NaN  44      48       65       50   \n",
       "10   11         Wartortle   Water     NaN  59      63       80       65   \n",
       "11   12         Blastoise   Water     NaN  79      83      100       85   \n",
       "12   13    Mega Blastoise   Water     NaN  79     103      120      135   \n",
       "13   14          Caterpie     Bug     NaN  45      30       35       20   \n",
       "14   15           Metapod     Bug     NaN  50      20       55       25   \n",
       "\n",
       "    Sp. Def  Speed  Legendary  \n",
       "0        65     45      False  \n",
       "1        80     60      False  \n",
       "2       100     80      False  \n",
       "3       120     80      False  \n",
       "4        50     65      False  \n",
       "5        65     80      False  \n",
       "6        85    100      False  \n",
       "7        85    100      False  \n",
       "8       115    100      False  \n",
       "9        64     43      False  \n",
       "10       80     58      False  \n",
       "11      105     78      False  \n",
       "12      115     78      False  \n",
       "13       20     45      False  \n",
       "14       25     30      False  "
      ]
     },
     "execution_count": 32,
     "metadata": {},
     "output_type": "execute_result"
    }
   ],
   "source": [
    "po.head(15)"
   ]
  },
  {
   "cell_type": "code",
   "execution_count": 33,
   "id": "e91477fd",
   "metadata": {},
   "outputs": [
    {
     "data": {
      "text/plain": [
       "pid            0\n",
       "Name           1\n",
       "Class 1        0\n",
       "Class 2      386\n",
       "HP             0\n",
       "Attack         0\n",
       "Defense        0\n",
       "Sp. Atk        0\n",
       "Sp. Def        0\n",
       "Speed          0\n",
       "Legendary      0\n",
       "dtype: int64"
      ]
     },
     "execution_count": 33,
     "metadata": {},
     "output_type": "execute_result"
    }
   ],
   "source": [
    "po.isnull().sum()\n",
    "\n",
    "#Были обнаружены выбросы по категор. переменной.\n",
    "#Но по условию задачи, эта переменная предсиавляет собой дополнительный класс покемона, которого может и не быть.\n",
    "#То есть никаких действий с пропусками делать не нужно.\n"
   ]
  },
  {
   "cell_type": "code",
   "execution_count": 34,
   "id": "a1ed3bd2",
   "metadata": {
    "scrolled": true
   },
   "outputs": [
    {
     "data": {
      "text/html": [
       "<div>\n",
       "<style scoped>\n",
       "    .dataframe tbody tr th:only-of-type {\n",
       "        vertical-align: middle;\n",
       "    }\n",
       "\n",
       "    .dataframe tbody tr th {\n",
       "        vertical-align: top;\n",
       "    }\n",
       "\n",
       "    .dataframe thead th {\n",
       "        text-align: right;\n",
       "    }\n",
       "</style>\n",
       "<table border=\"1\" class=\"dataframe\">\n",
       "  <thead>\n",
       "    <tr style=\"text-align: right;\">\n",
       "      <th></th>\n",
       "      <th>pid</th>\n",
       "      <th>Name</th>\n",
       "      <th>c1</th>\n",
       "      <th>c2</th>\n",
       "      <th>HP</th>\n",
       "      <th>Attack</th>\n",
       "      <th>Defense</th>\n",
       "      <th>Sp. Atk</th>\n",
       "      <th>Sp. Def</th>\n",
       "      <th>Speed</th>\n",
       "      <th>Lg</th>\n",
       "    </tr>\n",
       "  </thead>\n",
       "  <tbody>\n",
       "    <tr>\n",
       "      <th>0</th>\n",
       "      <td>1</td>\n",
       "      <td>Bulbasaur</td>\n",
       "      <td>Grass</td>\n",
       "      <td>Poison</td>\n",
       "      <td>45</td>\n",
       "      <td>49</td>\n",
       "      <td>49</td>\n",
       "      <td>65</td>\n",
       "      <td>65</td>\n",
       "      <td>45</td>\n",
       "      <td>False</td>\n",
       "    </tr>\n",
       "    <tr>\n",
       "      <th>1</th>\n",
       "      <td>2</td>\n",
       "      <td>Ivysaur</td>\n",
       "      <td>Grass</td>\n",
       "      <td>Poison</td>\n",
       "      <td>60</td>\n",
       "      <td>62</td>\n",
       "      <td>63</td>\n",
       "      <td>80</td>\n",
       "      <td>80</td>\n",
       "      <td>60</td>\n",
       "      <td>False</td>\n",
       "    </tr>\n",
       "    <tr>\n",
       "      <th>2</th>\n",
       "      <td>3</td>\n",
       "      <td>Venusaur</td>\n",
       "      <td>Grass</td>\n",
       "      <td>Poison</td>\n",
       "      <td>80</td>\n",
       "      <td>82</td>\n",
       "      <td>83</td>\n",
       "      <td>100</td>\n",
       "      <td>100</td>\n",
       "      <td>80</td>\n",
       "      <td>False</td>\n",
       "    </tr>\n",
       "    <tr>\n",
       "      <th>3</th>\n",
       "      <td>4</td>\n",
       "      <td>Mega Venusaur</td>\n",
       "      <td>Grass</td>\n",
       "      <td>Poison</td>\n",
       "      <td>80</td>\n",
       "      <td>100</td>\n",
       "      <td>123</td>\n",
       "      <td>122</td>\n",
       "      <td>120</td>\n",
       "      <td>80</td>\n",
       "      <td>False</td>\n",
       "    </tr>\n",
       "    <tr>\n",
       "      <th>4</th>\n",
       "      <td>5</td>\n",
       "      <td>Charmander</td>\n",
       "      <td>Fire</td>\n",
       "      <td>NaN</td>\n",
       "      <td>39</td>\n",
       "      <td>52</td>\n",
       "      <td>43</td>\n",
       "      <td>60</td>\n",
       "      <td>50</td>\n",
       "      <td>65</td>\n",
       "      <td>False</td>\n",
       "    </tr>\n",
       "    <tr>\n",
       "      <th>...</th>\n",
       "      <td>...</td>\n",
       "      <td>...</td>\n",
       "      <td>...</td>\n",
       "      <td>...</td>\n",
       "      <td>...</td>\n",
       "      <td>...</td>\n",
       "      <td>...</td>\n",
       "      <td>...</td>\n",
       "      <td>...</td>\n",
       "      <td>...</td>\n",
       "      <td>...</td>\n",
       "    </tr>\n",
       "    <tr>\n",
       "      <th>795</th>\n",
       "      <td>796</td>\n",
       "      <td>Diancie</td>\n",
       "      <td>Rock</td>\n",
       "      <td>Fairy</td>\n",
       "      <td>50</td>\n",
       "      <td>100</td>\n",
       "      <td>150</td>\n",
       "      <td>100</td>\n",
       "      <td>150</td>\n",
       "      <td>50</td>\n",
       "      <td>True</td>\n",
       "    </tr>\n",
       "    <tr>\n",
       "      <th>796</th>\n",
       "      <td>797</td>\n",
       "      <td>Mega Diancie</td>\n",
       "      <td>Rock</td>\n",
       "      <td>Fairy</td>\n",
       "      <td>50</td>\n",
       "      <td>160</td>\n",
       "      <td>110</td>\n",
       "      <td>160</td>\n",
       "      <td>110</td>\n",
       "      <td>110</td>\n",
       "      <td>True</td>\n",
       "    </tr>\n",
       "    <tr>\n",
       "      <th>797</th>\n",
       "      <td>798</td>\n",
       "      <td>Hoopa Confined</td>\n",
       "      <td>Psychic</td>\n",
       "      <td>Ghost</td>\n",
       "      <td>80</td>\n",
       "      <td>110</td>\n",
       "      <td>60</td>\n",
       "      <td>150</td>\n",
       "      <td>130</td>\n",
       "      <td>70</td>\n",
       "      <td>True</td>\n",
       "    </tr>\n",
       "    <tr>\n",
       "      <th>798</th>\n",
       "      <td>799</td>\n",
       "      <td>Hoopa Unbound</td>\n",
       "      <td>Psychic</td>\n",
       "      <td>Dark</td>\n",
       "      <td>80</td>\n",
       "      <td>160</td>\n",
       "      <td>60</td>\n",
       "      <td>170</td>\n",
       "      <td>130</td>\n",
       "      <td>80</td>\n",
       "      <td>True</td>\n",
       "    </tr>\n",
       "    <tr>\n",
       "      <th>799</th>\n",
       "      <td>800</td>\n",
       "      <td>Volcanion</td>\n",
       "      <td>Fire</td>\n",
       "      <td>Water</td>\n",
       "      <td>80</td>\n",
       "      <td>110</td>\n",
       "      <td>120</td>\n",
       "      <td>130</td>\n",
       "      <td>90</td>\n",
       "      <td>70</td>\n",
       "      <td>True</td>\n",
       "    </tr>\n",
       "  </tbody>\n",
       "</table>\n",
       "<p>800 rows × 11 columns</p>\n",
       "</div>"
      ],
      "text/plain": [
       "     pid            Name       c1      c2  HP  Attack  Defense  Sp. Atk  \\\n",
       "0      1       Bulbasaur    Grass  Poison  45      49       49       65   \n",
       "1      2         Ivysaur    Grass  Poison  60      62       63       80   \n",
       "2      3        Venusaur    Grass  Poison  80      82       83      100   \n",
       "3      4   Mega Venusaur    Grass  Poison  80     100      123      122   \n",
       "4      5      Charmander     Fire     NaN  39      52       43       60   \n",
       "..   ...             ...      ...     ...  ..     ...      ...      ...   \n",
       "795  796         Diancie     Rock   Fairy  50     100      150      100   \n",
       "796  797    Mega Diancie     Rock   Fairy  50     160      110      160   \n",
       "797  798  Hoopa Confined  Psychic   Ghost  80     110       60      150   \n",
       "798  799   Hoopa Unbound  Psychic    Dark  80     160       60      170   \n",
       "799  800       Volcanion     Fire   Water  80     110      120      130   \n",
       "\n",
       "     Sp. Def  Speed     Lg  \n",
       "0         65     45  False  \n",
       "1         80     60  False  \n",
       "2        100     80  False  \n",
       "3        120     80  False  \n",
       "4         50     65  False  \n",
       "..       ...    ...    ...  \n",
       "795      150     50   True  \n",
       "796      110    110   True  \n",
       "797      130     70   True  \n",
       "798      130     80   True  \n",
       "799       90     70   True  \n",
       "\n",
       "[800 rows x 11 columns]"
      ]
     },
     "execution_count": 34,
     "metadata": {},
     "output_type": "execute_result"
    }
   ],
   "source": [
    "#Перед выполнением заданий, поменяю названия на более удобные.\n",
    "\n",
    "po = po.rename(columns={'Class 1': 'c1', 'Class 2': 'c2', 'Legendary': 'Lg'}) \n",
    "po\n",
    "\n"
   ]
  },
  {
   "cell_type": "markdown",
   "id": "216b24ea",
   "metadata": {
    "id": "216b24ea"
   },
   "source": [
    "### Вопрос 1"
   ]
  },
  {
   "cell_type": "markdown",
   "id": "83dadefc",
   "metadata": {
    "id": "83dadefc"
   },
   "source": [
    "Подозревается, что покемоны в классе `grass` имеют более сильную обычную атаку, чем покемоны в классе `rock`.\n",
    "Проверим правда ли это:"
   ]
  },
  {
   "cell_type": "markdown",
   "id": "cac2d949",
   "metadata": {},
   "source": [
    "<b> В условии сказано, что предоставлена информацию о ВСЕХ СУЩЕСТВУЮЩИХ покемонах, т.е. мы имеем дело с ген. совокупностью. </b>"
   ]
  },
  {
   "cell_type": "code",
   "execution_count": 35,
   "id": "fb6a5007",
   "metadata": {
    "id": "fb6a5007",
    "scrolled": true
   },
   "outputs": [
    {
     "data": {
      "text/plain": [
       "c1        c2      \n",
       "Normal    Flying      24\n",
       "Grass     Poison      15\n",
       "Bug       Flying      14\n",
       "          Poison      12\n",
       "Ghost     Grass       10\n",
       "Water     Ground      10\n",
       "Steel     Psychic      7\n",
       "Fire      Fighting     7\n",
       "Water     Flying       7\n",
       "Bug       Steel        7\n",
       "Psychic   Flying       6\n",
       "          Fairy        6\n",
       "Water     Dark         6\n",
       "Rock      Ground       6\n",
       "Dragon    Flying       6\n",
       "Fire      Flying       6\n",
       "Rock      Water        6\n",
       "Bug       Grass        6\n",
       "Dragon    Ground       5\n",
       "Electric  Flying       5\n",
       "Normal    Fairy        5\n",
       "Dark      Flying       5\n",
       "Water     Psychic      5\n",
       "Grass     Flying       5\n",
       "Ghost     Poison       4\n",
       "Steel     Ghost        4\n",
       "Water     Rock         4\n",
       "Rock      Flying       4\n",
       "Dragon    Psychic      4\n",
       "Ground    Flying       4\n",
       "Grass     Dark         3\n",
       "          Ice          3\n",
       "Fire      Ground       3\n",
       "Poison    Flying       3\n",
       "Rock      Fairy        3\n",
       "Ghost     Fire         3\n",
       "Psychic   Fighting     3\n",
       "Fighting  Psychic      3\n",
       "Ground    Rock         3\n",
       "          Dark         3\n",
       "Water     Fighting     3\n",
       "          Poison       3\n",
       "Bug       Rock         3\n",
       "Water     Ice          3\n",
       "Dark      Dragon       3\n",
       "          Fire         3\n",
       "Water     Grass        3\n",
       "Ice       Ground       3\n",
       "Poison    Dark         3\n",
       "Ice       Water        3\n",
       "Dragon    Ice          3\n",
       "Steel     Rock         3\n",
       "Grass     Fighting     3\n",
       "Steel     Fairy        3\n",
       "Electric  Steel        3\n",
       "Rock      Steel        3\n",
       "Normal    Fighting     2\n",
       "          Psychic      2\n",
       "          Grass        2\n",
       "Ice       Psychic      2\n",
       "Bug       Electric     2\n",
       "Poison    Fighting     2\n",
       "          Ground       2\n",
       "Rock      Bug          2\n",
       "          Dark         2\n",
       "          Dragon       2\n",
       "          Grass        2\n",
       "Ice       Flying       2\n",
       "Rock      Psychic      2\n",
       "Steel     Ground       2\n",
       "Water     Dragon       2\n",
       "          Electric     2\n",
       "          Fairy        2\n",
       "          Ghost        2\n",
       "Rock      Ice          2\n",
       "Ground    Dragon       2\n",
       "Dark      Steel        2\n",
       "          Ghost        2\n",
       "Fighting  Steel        2\n",
       "Fire      Normal       2\n",
       "          Psychic      2\n",
       "Flying    Dragon       2\n",
       "Electric  Normal       2\n",
       "Ghost     Dragon       2\n",
       "          Flying       2\n",
       "Dark      Psychic      2\n",
       "          Ice          2\n",
       "Grass     Fairy        2\n",
       "Fairy     Flying       2\n",
       "Dark      Fighting     2\n",
       "Bug       Ground       2\n",
       "Grass     Psychic      2\n",
       "          Steel        2\n",
       "Bug       Fighting     2\n",
       "Ground    Psychic      2\n",
       "          Ghost        2\n",
       "Bug       Fire         2\n",
       "Electric  Grass        1\n",
       "Steel     Dragon       1\n",
       "Electric  Ice          1\n",
       "Steel     Fighting     1\n",
       "          Flying       1\n",
       "Electric  Fairy        1\n",
       "          Ghost        1\n",
       "          Fire         1\n",
       "Bug       Water        1\n",
       "Electric  Dragon       1\n",
       "Dragon    Fire         1\n",
       "Bug       Ghost        1\n",
       "Dragon    Fairy        1\n",
       "          Electric     1\n",
       "Ground    Steel        1\n",
       "Rock      Fighting     1\n",
       "Electric  Water        1\n",
       "Psychic   Dark         1\n",
       "Ground    Fire         1\n",
       "          Electric     1\n",
       "Normal    Ground       1\n",
       "Grass     Ground       1\n",
       "Normal    Water        1\n",
       "Poison    Bug          1\n",
       "          Dragon       1\n",
       "Grass     Dragon       1\n",
       "Poison    Water        1\n",
       "Ghost     Dark         1\n",
       "Fighting  Dark         1\n",
       "Psychic   Fire         1\n",
       "Fire      Water        1\n",
       "Psychic   Ghost        1\n",
       "          Grass        1\n",
       "Fire      Steel        1\n",
       "          Rock         1\n",
       "Ice       Ghost        1\n",
       "Fire      Dragon       1\n",
       "Fighting  Flying       1\n",
       "Water     Steel        1\n",
       "dtype: int64"
      ]
     },
     "execution_count": 35,
     "metadata": {},
     "output_type": "execute_result"
    }
   ],
   "source": [
    "pd.set_option('display.max_rows', 136)\n",
    "\n",
    "po[['c1', 'c2']].value_counts() #Просто посмотреть на наборы\n",
    "\n",
    "#Как видно, классы grass и rock могут встречаться как в с1, так и в с2. "
   ]
  },
  {
   "cell_type": "code",
   "execution_count": 36,
   "id": "f066e344",
   "metadata": {
    "scrolled": false
   },
   "outputs": [],
   "source": [
    "#Выделим необходимые выборки:\n",
    "\n",
    "pg, pr = po.loc[((po.c1 == 'Grass') | (po.c2 == 'Grass'))], po.loc[((po.c1 == 'Rock') | (po.c2 == 'Rock'))]\n",
    "\n",
    "#Получили датафреймы, где классы либо Grass(pg), либо Rock(pr).\n"
   ]
  },
  {
   "cell_type": "code",
   "execution_count": 37,
   "id": "0714776f",
   "metadata": {},
   "outputs": [
    {
     "data": {
      "text/plain": [
       "Text(0.5, 1.0, 'Rock')"
      ]
     },
     "execution_count": 37,
     "metadata": {},
     "output_type": "execute_result"
    },
    {
     "data": {
      "image/png": "[encoded data removed]",
      "text/plain": [
       "<Figure size 1080x360 with 2 Axes>"
      ]
     },
     "metadata": {},
     "output_type": "display_data"
    }
   ],
   "source": [
    "#Поскольку в задаче нас интересует параметрика, то проверим на нормальность распределения:\n",
    "\n",
    "fig, ax = plt.subplots(1, 2, figsize = (15, 5), sharex=True, sharey=True)\n",
    "fig.suptitle('Демонстрация распределения значений', fontsize=20)\n",
    "fig.tight_layout(h_pad=3)\n",
    "\n",
    "\n",
    "ax[0].hist(pg['Attack'], color='#F08080')\n",
    "ax[0].set_title('Grass', fontsize=19)\n",
    "\n",
    "ax[1].hist(pr['Attack'], color='#F08080')\n",
    "ax[1].set_title('Rock', fontsize=19)\n",
    "\n"
   ]
  },
  {
   "cell_type": "markdown",
   "id": "237c63af",
   "metadata": {},
   "source": [
    "<b> Как видно, распределения не совсем напоминают нормальные, далее попробуем отфильтровать данные: </b>"
   ]
  },
  {
   "cell_type": "code",
   "execution_count": 54,
   "id": "0a01a509",
   "metadata": {},
   "outputs": [
    {
     "data": {
      "text/plain": [
       "Text(0.5, 1.0, 'Rock')"
      ]
     },
     "execution_count": 54,
     "metadata": {},
     "output_type": "execute_result"
    },
    {
     "data": {
      "image/png": "[encoded data removed]",
      "text/plain": [
       "<Figure size 1080x360 with 2 Axes>"
      ]
     },
     "metadata": {},
     "output_type": "display_data"
    }
   ],
   "source": [
    "#Восопльзуемся все той же функцией:\n",
    "\n",
    "#Прологарифмируем признаки:\n",
    "pgl, prl = pg.copy(), pr.copy()\n",
    "\n",
    "pgl['Attack'] = (pg['Attack'].apply(lambda x: np.log(x**2) if x != 0 else np.nan)).dropna()\n",
    "prl['Attack'] = (pr['Attack'].apply(lambda x: np.log(x**2) if x != 0 else np.nan)).dropna()\n",
    "\n",
    "#pg #pr\n",
    "\n",
    "fig, ax = plt.subplots(1, 2, figsize = (15, 5), sharex=True, sharey=True)\n",
    "fig.suptitle('Демонстрация логарифмированных значений', fontsize=20)\n",
    "fig.tight_layout(h_pad=3)\n",
    "\n",
    "\n",
    "ax[0].hist(pgl['Attack'], color='#F08080')\n",
    "ax[0].set_title('Grass', fontsize=19)\n",
    "\n",
    "ax[1].hist(prl['Attack'], color='#F08080')\n",
    "ax[1].set_title('Rock', fontsize=19) \n",
    "\n"
   ]
  },
  {
   "cell_type": "markdown",
   "id": "0da8a3f1",
   "metadata": {},
   "source": [
    "<b> Как видно, фильтрация данных не помогла, тогда остается либо использовать начальные данные (они больше напоминают нормальное распределение, чем логарифмированные), зная, что результаты будут довольно неточными. </b>\n",
    "\n",
    "<b> Либо попытаться рассмотреть гипотезы о средних, через непараметрику и аппроксимацию. </b>\n",
    "\n",
    "(Попробуем второй сценарий)."
   ]
  },
  {
   "cell_type": "code",
   "execution_count": 39,
   "id": "fbc69032",
   "metadata": {},
   "outputs": [],
   "source": [
    "#Оценим данные:\n",
    "\n",
    "#pr.Attack.describe() #Вывод:(mean: 90.724138, median: 90.000000);\n",
    "#pg.Attack.describe() #Вывод:(mean: 73.463158, median: 70.000000);"
   ]
  },
  {
   "cell_type": "markdown",
   "id": "318ee1f4",
   "metadata": {},
   "source": [
    "\n",
    "Получается, что в рамках каждой выборки, значения медиан и средних очень-очень близки, поэтому можно воспользоваться Критерием Манна-Уитни о гипотезе о медианах, результат которого будет очень похож на результат гипотезы о средних. (Т.е. такой сценарий, скорее всего, даст более точные результаты, чем тест о средних на начальных данных).\n",
    "\n",
    "Команда: mannwhitneyu()\n",
    "\n",
    "Сформулируем гипотезы о медианах:\n",
    "\n",
    "<b> Н0: Медианные обычные атаки покемонов класса Grass и покемонов класса Rock равны. </b> (примерно <=> Покемоны класса Grass в среднем имеют такую же обычную атаку, как и покемоны класса Rock);\n",
    "\n",
    "<b> Н1: Медианные обычные атаки покемонов класса Grass больше медианных атак покемонов класса Rock. </b> (примерно <=> Покемоны класса Grass в среднем имеют более сильную обычную атаку, чем покемоны класса Rock); \n"
   ]
  },
  {
   "cell_type": "code",
   "execution_count": 40,
   "id": "49732551",
   "metadata": {},
   "outputs": [
    {
     "data": {
      "text/plain": [
       "MannwhitneyuResult(statistic=1963.5, pvalue=0.9985586984080945)"
      ]
     },
     "execution_count": 40,
     "metadata": {},
     "output_type": "execute_result"
    }
   ],
   "source": [
    "\n",
    "sc.stats.mannwhitneyu(pg['Attack'],\n",
    "                      pr['Attack'],\n",
    "                      alternative='greater')\n",
    "\n"
   ]
  },
  {
   "cell_type": "markdown",
   "id": "e9f3d9db",
   "metadata": {},
   "source": [
    "\n",
    "P-value = 0.9985586984080945, т.е. ~99.8%.\n",
    "\n",
    "Значит, что <b> на всех разумных уровнях значимости нулевая гипотеза (Н0) НЕ отвергается, а Принимается, поскольку мы имее дело с ген. совокупностью (так сказано в задании и я писал об этом выше) </b>, \n",
    "\n",
    "т.е. можно сказать, что Медианные значения обычных атак покемонов двух классов (Grass & Rock) эквивалентны, а также, что почти точно (при условии, что медианы и средние значения практически равны): Среднее обычных атак покемонов класса Grass равно средней обычной атаке покемонов класса Rock.\n",
    "\n",
    "\n"
   ]
  },
  {
   "cell_type": "markdown",
   "id": "efe3805e",
   "metadata": {
    "id": "efe3805e"
   },
   "source": [
    "### Вопрос 2"
   ]
  },
  {
   "cell_type": "markdown",
   "id": "baeb5aeb",
   "metadata": {
    "id": "baeb5aeb"
   },
   "source": [
    "Правда ли нет значимой разницы между силой обычной атаки и силой обычной защиты у покемонов."
   ]
  },
  {
   "cell_type": "code",
   "execution_count": 109,
   "id": "1c3185b5",
   "metadata": {},
   "outputs": [
    {
     "data": {
      "image/png": "[encoded data removed]",
      "text/plain": [
       "<Figure size 1080x360 with 2 Axes>"
      ]
     },
     "metadata": {},
     "output_type": "display_data"
    }
   ],
   "source": [
    "#Попробуем рассмотреть распределения Атаки и Защиты:\n",
    "\n",
    "po[['Attack', 'Defense']].hist(figsize=(15, 5), sharex=True, sharey=True, color='#F08080')\n",
    "plt.rcParams['font.size'] = 16\n",
    "plt.suptitle('Демонстрация нормального распределения величин', fontsize=19, y = 1.05)\n",
    "fig.tight_layout(h_pad=2)\n",
    "\n",
    "\n",
    "#Распределены нормально / (sc.stats.normaltest(po[['Attack', 'Defense']]) - так можно сделать доп. проверку)"
   ]
  },
  {
   "cell_type": "code",
   "execution_count": 104,
   "id": "5b575f24",
   "metadata": {},
   "outputs": [
    {
     "data": {
      "text/html": [
       "<div>\n",
       "<style scoped>\n",
       "    .dataframe tbody tr th:only-of-type {\n",
       "        vertical-align: middle;\n",
       "    }\n",
       "\n",
       "    .dataframe tbody tr th {\n",
       "        vertical-align: top;\n",
       "    }\n",
       "\n",
       "    .dataframe thead th {\n",
       "        text-align: right;\n",
       "    }\n",
       "</style>\n",
       "<table border=\"1\" class=\"dataframe\">\n",
       "  <thead>\n",
       "    <tr style=\"text-align: right;\">\n",
       "      <th></th>\n",
       "      <th>Attack</th>\n",
       "      <th>Defense</th>\n",
       "    </tr>\n",
       "  </thead>\n",
       "  <tbody>\n",
       "    <tr>\n",
       "      <th>Attack</th>\n",
       "      <td>1.000000</td>\n",
       "      <td>0.438687</td>\n",
       "    </tr>\n",
       "    <tr>\n",
       "      <th>Defense</th>\n",
       "      <td>0.438687</td>\n",
       "      <td>1.000000</td>\n",
       "    </tr>\n",
       "  </tbody>\n",
       "</table>\n",
       "</div>"
      ],
      "text/plain": [
       "           Attack   Defense\n",
       "Attack   1.000000  0.438687\n",
       "Defense  0.438687  1.000000"
      ]
     },
     "execution_count": 104,
     "metadata": {},
     "output_type": "execute_result"
    }
   ],
   "source": [
    "po[['Attack', 'Defense']].corr()\n",
    "\n",
    "#Корреляция = 0.438687, т.е. связь слабая"
   ]
  },
  {
   "cell_type": "markdown",
   "id": "9276b042",
   "metadata": {},
   "source": [
    "\n",
    "С т.ч. задания, у нас ген. совокупность, нормальное распределение, выборки независимы. Необходимо рассмотреть гипотезу о средних.\n",
    "\n",
    "Команда: ztest()\n",
    "\n",
    "Сформулируем гипотезы о средних:\n",
    "\n",
    "<b> Н0: μ1 = μ2. </b> Значимой разницы в обычных атаках и обычных защитах нет;\n",
    "\n",
    "<b> Н1: μ1 != μ2. </b> Значимая разница в обычных атаках и обычных защитах есть; \n",
    "\n"
   ]
  },
  {
   "cell_type": "code",
   "execution_count": 105,
   "id": "2b6b3a20",
   "metadata": {},
   "outputs": [
    {
     "data": {
      "text/plain": [
       "(3.2417640740423126, 0.001187923197909001)"
      ]
     },
     "execution_count": 105,
     "metadata": {},
     "output_type": "execute_result"
    }
   ],
   "source": [
    "\n",
    "ztest(po.Attack, po.Defense, alternative='two-sided')\n",
    "\n"
   ]
  },
  {
   "cell_type": "markdown",
   "id": "9bcd7fe5",
   "metadata": {},
   "source": [
    "\n",
    "P-value = 0.001187923197909001, т.е. ~0.1%.\n",
    "\n",
    "Значит, что <b> на всех разумных уровнях значимости нулевая гипотеза (Н0) отвергается и принимается альтернативная гипотеза (Н1) </b>, \n",
    "\n",
    "т.е. можно сказать, что Значимая разница в обычных атаках и в обычных защитах есть.\n",
    "\n"
   ]
  },
  {
   "cell_type": "markdown",
   "id": "55c372da",
   "metadata": {
    "id": "55c372da"
   },
   "source": [
    "### Вопрос 3"
   ]
  },
  {
   "cell_type": "markdown",
   "id": "781cbb94",
   "metadata": {
    "id": "781cbb94"
   },
   "source": [
    "Правда ли, что средняя скорость покемонов превышает 66.6? Сформулируем подходящие гипотезы и ответим на вопрос:"
   ]
  },
  {
   "cell_type": "code",
   "execution_count": 112,
   "id": "0c624155",
   "metadata": {},
   "outputs": [
    {
     "data": {
      "text/plain": [
       "Text(0.5, 0.98, 'Распределение скорости покемонов')"
      ]
     },
     "execution_count": 112,
     "metadata": {},
     "output_type": "execute_result"
    },
    {
     "data": {
      "image/png": "[encoded data removed]",
      "text/plain": [
       "<Figure size 936x432 with 1 Axes>"
      ]
     },
     "metadata": {},
     "output_type": "display_data"
    }
   ],
   "source": [
    "#Проверка на нормальность распределения:\n",
    "\n",
    "po.Speed.hist(figsize=(13, 6), color='#F08080')\n",
    "plt.suptitle('Распределение скорости покемонов', fontsize=19)\n",
    "\n",
    "#Распределение нормально /(sc.stats.normaltest(po.Speed) - так можно сделать доп. проверку на норм. распрдл.)"
   ]
  },
  {
   "cell_type": "markdown",
   "id": "45818625",
   "metadata": {},
   "source": [
    "\n",
    "С т.ч. задания, у нас ген. совокупность, ~нормальное распределение. Необходимо рассмотреть гипотезу о среднем значении.\n",
    "\n",
    "Команда: ztest()\n",
    "\n",
    "Сформулируем гипотезы о средних:\n",
    "\n",
    "<b> Н0: Средняя скорость покемонов равна 66.6; </b>\n",
    "\n",
    "<b> Н1: Средняя скорость покемонов больше, чем 66.6; </b>\n",
    "\n"
   ]
  },
  {
   "cell_type": "code",
   "execution_count": 114,
   "id": "a1150485",
   "metadata": {},
   "outputs": [
    {
     "data": {
      "text/plain": [
       "(1.6326941356636653, 0.05126667071552446)"
      ]
     },
     "execution_count": 114,
     "metadata": {},
     "output_type": "execute_result"
    }
   ],
   "source": [
    "\n",
    "ztest(po.Speed, value = 66.6, alternative='larger')\n",
    "\n"
   ]
  },
  {
   "cell_type": "markdown",
   "id": "5aa3d9ba",
   "metadata": {},
   "source": [
    "\n",
    "P-value = 0.05126667071552446, т.е. ~5.1%.\n",
    "\n",
    "Значит, что:\n",
    "\n",
    "1) <b> на уровне значимости 10% нулевая гипотеза (Н0) отвергается и принимается альтернативная гипотеза (Н1) </b> \n",
    "т.е. можно сказать, что Средняя скорость покемонов больше, чем 66,6.\n",
    "\n",
    "2) <b> на уровнях значимости 1% и 5% нулевая гипотеза (Н0) НЕ отвергается, а принимается </b> \n",
    "т.е. можно сказать, что Средняя скорость покемонов равна 66,6.\n",
    "\n"
   ]
  },
  {
   "cell_type": "markdown",
   "id": "71f09e38",
   "metadata": {},
   "source": [
    "---"
   ]
  }
 ],
 "metadata": {
  "colab": {
   "name": "DZ3_DS.ipynb",
   "provenance": []
  },
  "kernelspec": {
   "display_name": "Python 3 (ipykernel)",
   "language": "python",
   "name": "python3"
  },
  "language_info": {
   "codemirror_mode": {
    "name": "ipython",
    "version": 3
   },
   "file_extension": ".py",
   "mimetype": "text/x-python",
   "name": "python",
   "nbconvert_exporter": "python",
   "pygments_lexer": "ipython3",
   "version": "3.9.0"
  }
 },
 "nbformat": 4,
 "nbformat_minor": 5
}
