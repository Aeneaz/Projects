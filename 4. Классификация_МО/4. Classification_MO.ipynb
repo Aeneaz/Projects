{
 "cells": [
  {
   "cell_type": "markdown",
   "metadata": {},
   "source": [
    "## Задача классификации"
   ]
  },
  {
   "cell_type": "markdown",
   "metadata": {},
   "source": [
    "<b>В рамках данной работы будут выполнены следующие задачи:</b>\n",
    "    \n",
    "    1) Предобработка данных;\n",
    "    2) Построение модели классификации используя:\n",
    "        - Наивный прогноз;\n",
    "        - Метод ближайших соседей:\n",
    "            - По трем соседям;\n",
    "            - По пяти соседям;\n",
    "            - По семи соседям;\n",
    "    3) Использование метода шкалирования (MinMaxScaller);\n",
    "    4) Оценка моделей (F1, precision, recall);\n",
    "        \n",
    "        \n",
    "        \n",
    "\n",
    "Будем предсказывать удовлетворенность студентов их программой (`LikeDegree`)"
   ]
  },
  {
   "cell_type": "code",
   "execution_count": 372,
   "metadata": {},
   "outputs": [],
   "source": [
    "#Импортируем нужные библиотеки:\n",
    "\n",
    "import numpy as np\n",
    "import pandas as pd\n",
    "import matplotlib.pyplot as plt\n",
    "import seaborn as sns\n",
    "import sklearn as sk\n",
    "from sklearn.linear_model import LinearRegression\n",
    "import statsmodels.formula.api as smf\n",
    "plt.style.use('ggplot')\n",
    "sns.set_style('darkgrid')\n",
    "from sklearn.model_selection import train_test_split as tts\n",
    "from sklearn.neighbors import KNeighborsClassifier as knn\n",
    "from sklearn.preprocessing import MinMaxScaler as mms\n",
    "from sklearn.metrics import precision_score, recall_score, f1_score\n",
    "\n",
    "\n",
    "import warnings\n",
    "warnings.filterwarnings('ignore')\n"
   ]
  },
  {
   "cell_type": "markdown",
   "metadata": {},
   "source": [
    "### Предобработка данных\n"
   ]
  },
  {
   "cell_type": "code",
   "execution_count": 373,
   "metadata": {},
   "outputs": [
    {
     "data": {
      "text/html": [
       "<div>\n",
       "<style scoped>\n",
       "    .dataframe tbody tr th:only-of-type {\n",
       "        vertical-align: middle;\n",
       "    }\n",
       "\n",
       "    .dataframe tbody tr th {\n",
       "        vertical-align: top;\n",
       "    }\n",
       "\n",
       "    .dataframe thead th {\n",
       "        text-align: right;\n",
       "    }\n",
       "</style>\n",
       "<table border=\"1\" class=\"dataframe\">\n",
       "  <thead>\n",
       "    <tr style=\"text-align: right;\">\n",
       "      <th></th>\n",
       "      <th>CertificationCourses</th>\n",
       "      <th>Gender</th>\n",
       "      <th>Department</th>\n",
       "      <th>Height(CM)</th>\n",
       "      <th>Weight(KG)</th>\n",
       "      <th>10Mark</th>\n",
       "      <th>12Mark</th>\n",
       "      <th>CollegeMark</th>\n",
       "      <th>Hobbies</th>\n",
       "      <th>DailyStudingTime</th>\n",
       "      <th>PreferToStudyIn</th>\n",
       "      <th>SalaryExpectation</th>\n",
       "      <th>LikeDegree</th>\n",
       "      <th>CareerBasedonDegree</th>\n",
       "      <th>GamesSpendingTime</th>\n",
       "      <th>TravellingTime</th>\n",
       "      <th>StressLevel</th>\n",
       "      <th>FinancialStatus</th>\n",
       "      <th>PartTimeJob?</th>\n",
       "    </tr>\n",
       "  </thead>\n",
       "  <tbody>\n",
       "    <tr>\n",
       "      <th>0</th>\n",
       "      <td>No</td>\n",
       "      <td>Male</td>\n",
       "      <td>BCA</td>\n",
       "      <td>100.0</td>\n",
       "      <td>58.0</td>\n",
       "      <td>79.0</td>\n",
       "      <td>65.0</td>\n",
       "      <td>80.0</td>\n",
       "      <td>Video Games</td>\n",
       "      <td>0 - 30 minute</td>\n",
       "      <td>Morning</td>\n",
       "      <td>40000</td>\n",
       "      <td>No</td>\n",
       "      <td>50%</td>\n",
       "      <td>1.30 - 2 hour</td>\n",
       "      <td>30 - 60 minutes</td>\n",
       "      <td>Bad</td>\n",
       "      <td>Bad</td>\n",
       "      <td>No</td>\n",
       "    </tr>\n",
       "    <tr>\n",
       "      <th>1</th>\n",
       "      <td>No</td>\n",
       "      <td>Female</td>\n",
       "      <td>BCA</td>\n",
       "      <td>90.0</td>\n",
       "      <td>40.0</td>\n",
       "      <td>70.0</td>\n",
       "      <td>80.0</td>\n",
       "      <td>70.0</td>\n",
       "      <td>Cinema</td>\n",
       "      <td>30 - 60 minute</td>\n",
       "      <td>Morning</td>\n",
       "      <td>15000</td>\n",
       "      <td>Yes</td>\n",
       "      <td>75%</td>\n",
       "      <td>1 - 1.30 hour</td>\n",
       "      <td>0 - 30 minutes</td>\n",
       "      <td>Bad</td>\n",
       "      <td>Bad</td>\n",
       "      <td>No</td>\n",
       "    </tr>\n",
       "    <tr>\n",
       "      <th>2</th>\n",
       "      <td>Yes</td>\n",
       "      <td>Male</td>\n",
       "      <td>BCA</td>\n",
       "      <td>159.0</td>\n",
       "      <td>78.0</td>\n",
       "      <td>69.5</td>\n",
       "      <td>61.0</td>\n",
       "      <td>55.0</td>\n",
       "      <td>Cinema</td>\n",
       "      <td>1 - 2 Hour</td>\n",
       "      <td>Anytime</td>\n",
       "      <td>13000</td>\n",
       "      <td>Yes</td>\n",
       "      <td>50%</td>\n",
       "      <td>More than 2 hour</td>\n",
       "      <td>30 - 60 minutes</td>\n",
       "      <td>Awful</td>\n",
       "      <td>Bad</td>\n",
       "      <td>No</td>\n",
       "    </tr>\n",
       "    <tr>\n",
       "      <th>3</th>\n",
       "      <td>Yes</td>\n",
       "      <td>Female</td>\n",
       "      <td>BCA</td>\n",
       "      <td>147.0</td>\n",
       "      <td>20.0</td>\n",
       "      <td>70.0</td>\n",
       "      <td>59.0</td>\n",
       "      <td>58.0</td>\n",
       "      <td>Reading books</td>\n",
       "      <td>1 - 2 Hour</td>\n",
       "      <td>Anytime</td>\n",
       "      <td>1500000</td>\n",
       "      <td>No</td>\n",
       "      <td>50%</td>\n",
       "      <td>1.30 - 2 hour</td>\n",
       "      <td>0 - 30 minutes</td>\n",
       "      <td>Bad</td>\n",
       "      <td>good</td>\n",
       "      <td>No</td>\n",
       "    </tr>\n",
       "    <tr>\n",
       "      <th>4</th>\n",
       "      <td>No</td>\n",
       "      <td>Male</td>\n",
       "      <td>BCA</td>\n",
       "      <td>170.0</td>\n",
       "      <td>54.0</td>\n",
       "      <td>40.0</td>\n",
       "      <td>65.0</td>\n",
       "      <td>30.0</td>\n",
       "      <td>Video Games</td>\n",
       "      <td>30 - 60 minute</td>\n",
       "      <td>Morning</td>\n",
       "      <td>50000</td>\n",
       "      <td>Yes</td>\n",
       "      <td>25%</td>\n",
       "      <td>1.30 - 2 hour</td>\n",
       "      <td>30 - 60 minutes</td>\n",
       "      <td>Good</td>\n",
       "      <td>good</td>\n",
       "      <td>No</td>\n",
       "    </tr>\n",
       "  </tbody>\n",
       "</table>\n",
       "</div>"
      ],
      "text/plain": [
       "  CertificationCourses  Gender Department  Height(CM)  Weight(KG)  10Mark  \\\n",
       "0                   No    Male        BCA       100.0        58.0    79.0   \n",
       "1                   No  Female        BCA        90.0        40.0    70.0   \n",
       "2                  Yes    Male        BCA       159.0        78.0    69.5   \n",
       "3                  Yes  Female        BCA       147.0        20.0    70.0   \n",
       "4                   No    Male        BCA       170.0        54.0    40.0   \n",
       "\n",
       "   12Mark  CollegeMark        Hobbies DailyStudingTime PreferToStudyIn  \\\n",
       "0    65.0         80.0    Video Games    0 - 30 minute         Morning   \n",
       "1    80.0         70.0         Cinema   30 - 60 minute         Morning   \n",
       "2    61.0         55.0         Cinema       1 - 2 Hour         Anytime   \n",
       "3    59.0         58.0  Reading books       1 - 2 Hour         Anytime   \n",
       "4    65.0         30.0    Video Games   30 - 60 minute         Morning   \n",
       "\n",
       "   SalaryExpectation LikeDegree CareerBasedonDegree GamesSpendingTime  \\\n",
       "0              40000         No                 50%     1.30 - 2 hour   \n",
       "1              15000        Yes                 75%     1 - 1.30 hour   \n",
       "2              13000        Yes                 50%  More than 2 hour   \n",
       "3            1500000         No                 50%     1.30 - 2 hour   \n",
       "4              50000        Yes                 25%     1.30 - 2 hour   \n",
       "\n",
       "   TravellingTime  StressLevel  FinancialStatus PartTimeJob?  \n",
       "0  30 - 60 minutes          Bad             Bad           No  \n",
       "1   0 - 30 minutes          Bad             Bad           No  \n",
       "2  30 - 60 minutes        Awful             Bad           No  \n",
       "3   0 - 30 minutes          Bad            good           No  \n",
       "4  30 - 60 minutes         Good            good           No  "
      ]
     },
     "execution_count": 373,
     "metadata": {},
     "output_type": "execute_result"
    }
   ],
   "source": [
    " \n",
    "sb = pd.read_csv('Student_Behaviour.csv')\n",
    "sb.head(5)\n"
   ]
  },
  {
   "cell_type": "code",
   "execution_count": 374,
   "metadata": {},
   "outputs": [
    {
     "name": "stdout",
     "output_type": "stream",
     "text": [
      "<class 'pandas.core.frame.DataFrame'>\n",
      "RangeIndex: 235 entries, 0 to 234\n",
      "Data columns (total 19 columns):\n",
      " #   Column                Non-Null Count  Dtype  \n",
      "---  ------                --------------  -----  \n",
      " 0   CertificationCourses  235 non-null    object \n",
      " 1   Gender                235 non-null    object \n",
      " 2   Department            235 non-null    object \n",
      " 3   Height(CM)            235 non-null    float64\n",
      " 4   Weight(KG)            235 non-null    float64\n",
      " 5   10Mark                235 non-null    float64\n",
      " 6   12Mark                235 non-null    float64\n",
      " 7   CollegeMark           235 non-null    float64\n",
      " 8   Hobbies               235 non-null    object \n",
      " 9   DailyStudingTime      235 non-null    object \n",
      " 10  PreferToStudyIn       235 non-null    object \n",
      " 11  SalaryExpectation     235 non-null    int64  \n",
      " 12  LikeDegree            235 non-null    object \n",
      " 13  CareerBasedonDegree   235 non-null    object \n",
      " 14  GamesSpendingTime     235 non-null    object \n",
      " 15  TravellingTime        235 non-null    object \n",
      " 16  StressLevel           235 non-null    object \n",
      " 17  FinancialStatus       235 non-null    object \n",
      " 18  PartTimeJob?          235 non-null    object \n",
      "dtypes: float64(5), int64(1), object(13)\n",
      "memory usage: 35.0+ KB\n"
     ]
    }
   ],
   "source": [
    "sb.info()"
   ]
  },
  {
   "cell_type": "code",
   "execution_count": 375,
   "metadata": {},
   "outputs": [],
   "source": [
    "#Заметил, что колонка TravellingTime почему-то не считывается при запросе \"sb.TravellingTime\"\n",
    "#=> Переименуем:\n",
    "sb = sb.rename(columns={'TravellingTime ': 'TravellingTime'}) "
   ]
  },
  {
   "cell_type": "code",
   "execution_count": 376,
   "metadata": {},
   "outputs": [
    {
     "data": {
      "text/plain": [
       "0      30 - 60 minutes\n",
       "1       0 - 30 minutes\n",
       "2      30 - 60 minutes\n",
       "3       0 - 30 minutes\n",
       "4      30 - 60 minutes\n",
       "            ...       \n",
       "230    30 - 60 minutes\n",
       "231    30 - 60 minutes\n",
       "232      2.30 - 3 hour\n",
       "233      2.30 - 3 hour\n",
       "234      2.30 - 3 hour\n",
       "Name: TravellingTime, Length: 235, dtype: object"
      ]
     },
     "execution_count": 376,
     "metadata": {},
     "output_type": "execute_result"
    }
   ],
   "source": [
    "sb.TravellingTime #Теперь работает"
   ]
  },
  {
   "cell_type": "markdown",
   "metadata": {},
   "source": [
    "Проверим на наличие пропусков:"
   ]
  },
  {
   "cell_type": "code",
   "execution_count": 377,
   "metadata": {
    "scrolled": true
   },
   "outputs": [
    {
     "data": {
      "text/plain": [
       "CertificationCourses    0\n",
       "Gender                  0\n",
       "Department              0\n",
       "Height(CM)              0\n",
       "Weight(KG)              0\n",
       "10Mark                  0\n",
       "12Mark                  0\n",
       "CollegeMark             0\n",
       "Hobbies                 0\n",
       "DailyStudingTime        0\n",
       "PreferToStudyIn         0\n",
       "SalaryExpectation       0\n",
       "LikeDegree              0\n",
       "CareerBasedonDegree     0\n",
       "GamesSpendingTime       0\n",
       "TravellingTime          0\n",
       "StressLevel             0\n",
       "FinancialStatus         0\n",
       "PartTimeJob?            0\n",
       "dtype: int64"
      ]
     },
     "execution_count": 377,
     "metadata": {},
     "output_type": "execute_result"
    }
   ],
   "source": [
    "\n",
    "sb.isnull().sum() \n"
   ]
  },
  {
   "cell_type": "markdown",
   "metadata": {},
   "source": [
    "Дубликаты:"
   ]
  },
  {
   "cell_type": "code",
   "execution_count": 378,
   "metadata": {},
   "outputs": [
    {
     "data": {
      "text/plain": [
       "0"
      ]
     },
     "execution_count": 378,
     "metadata": {},
     "output_type": "execute_result"
    }
   ],
   "source": [
    "sb.duplicated().sum()"
   ]
  },
  {
   "cell_type": "markdown",
   "metadata": {},
   "source": [
    "Проверка на корректность типов данных:"
   ]
  },
  {
   "cell_type": "code",
   "execution_count": 379,
   "metadata": {
    "scrolled": true
   },
   "outputs": [
    {
     "data": {
      "text/plain": [
       "CertificationCourses     object\n",
       "Gender                   object\n",
       "Department               object\n",
       "Height(CM)              float64\n",
       "Weight(KG)              float64\n",
       "10Mark                  float64\n",
       "12Mark                  float64\n",
       "CollegeMark             float64\n",
       "Hobbies                  object\n",
       "DailyStudingTime         object\n",
       "PreferToStudyIn          object\n",
       "SalaryExpectation         int64\n",
       "LikeDegree               object\n",
       "CareerBasedonDegree      object\n",
       "GamesSpendingTime        object\n",
       "TravellingTime           object\n",
       "StressLevel              object\n",
       "FinancialStatus          object\n",
       "PartTimeJob?             object\n",
       "dtype: object"
      ]
     },
     "execution_count": 379,
     "metadata": {},
     "output_type": "execute_result"
    }
   ],
   "source": [
    "sb.dtypes"
   ]
  },
  {
   "cell_type": "code",
   "execution_count": 380,
   "metadata": {
    "scrolled": false
   },
   "outputs": [
    {
     "data": {
      "text/plain": [
       "0      0.50\n",
       "1      0.75\n",
       "2      0.50\n",
       "3      0.50\n",
       "4      0.25\n",
       "       ... \n",
       "230    0.50\n",
       "231    0.75\n",
       "232    0.50\n",
       "233    0.75\n",
       "234    0.75\n",
       "Name: CareerBasedonDegree, Length: 235, dtype: float64"
      ]
     },
     "execution_count": 380,
     "metadata": {},
     "output_type": "execute_result"
    }
   ],
   "source": [
    "#Приведем CareerBasedonDegree к числовому формату:\n",
    "\n",
    "sb.CareerBasedonDegree = (sb.CareerBasedonDegree.apply(lambda x: str(x).rstrip('%'))).astype('float64')/100\n",
    "sb.CareerBasedonDegree #Пример проделанного преобразования: 50% --> 0.50\n"
   ]
  },
  {
   "cell_type": "markdown",
   "metadata": {},
   "source": [
    "В датасете есть 3 поля, с суффиксом `Time`, данные в них строковые, которые означают временной интервал. Извлечем минимальное время(левую границу интервала) для каждой из этих переменных и переведем в минуты:"
   ]
  },
  {
   "cell_type": "code",
   "execution_count": 381,
   "metadata": {
    "scrolled": true
   },
   "outputs": [
    {
     "data": {
      "text/html": [
       "<div>\n",
       "<style scoped>\n",
       "    .dataframe tbody tr th:only-of-type {\n",
       "        vertical-align: middle;\n",
       "    }\n",
       "\n",
       "    .dataframe tbody tr th {\n",
       "        vertical-align: top;\n",
       "    }\n",
       "\n",
       "    .dataframe thead th {\n",
       "        text-align: right;\n",
       "    }\n",
       "</style>\n",
       "<table border=\"1\" class=\"dataframe\">\n",
       "  <thead>\n",
       "    <tr style=\"text-align: right;\">\n",
       "      <th></th>\n",
       "      <th>DailyStudingTime</th>\n",
       "      <th>GamesSpendingTime</th>\n",
       "      <th>TravellingTime</th>\n",
       "      <th>PartTimeJob?</th>\n",
       "    </tr>\n",
       "  </thead>\n",
       "  <tbody>\n",
       "    <tr>\n",
       "      <th>0</th>\n",
       "      <td>0 - 30 minute</td>\n",
       "      <td>1.30 - 2 hour</td>\n",
       "      <td>30 - 60 minutes</td>\n",
       "      <td>No</td>\n",
       "    </tr>\n",
       "    <tr>\n",
       "      <th>1</th>\n",
       "      <td>30 - 60 minute</td>\n",
       "      <td>1 - 1.30 hour</td>\n",
       "      <td>0 - 30 minutes</td>\n",
       "      <td>No</td>\n",
       "    </tr>\n",
       "    <tr>\n",
       "      <th>2</th>\n",
       "      <td>1 - 2 Hour</td>\n",
       "      <td>More than 2 hour</td>\n",
       "      <td>30 - 60 minutes</td>\n",
       "      <td>No</td>\n",
       "    </tr>\n",
       "    <tr>\n",
       "      <th>3</th>\n",
       "      <td>1 - 2 Hour</td>\n",
       "      <td>1.30 - 2 hour</td>\n",
       "      <td>0 - 30 minutes</td>\n",
       "      <td>No</td>\n",
       "    </tr>\n",
       "    <tr>\n",
       "      <th>4</th>\n",
       "      <td>30 - 60 minute</td>\n",
       "      <td>1.30 - 2 hour</td>\n",
       "      <td>30 - 60 minutes</td>\n",
       "      <td>No</td>\n",
       "    </tr>\n",
       "    <tr>\n",
       "      <th>...</th>\n",
       "      <td>...</td>\n",
       "      <td>...</td>\n",
       "      <td>...</td>\n",
       "      <td>...</td>\n",
       "    </tr>\n",
       "    <tr>\n",
       "      <th>230</th>\n",
       "      <td>30 - 60 minute</td>\n",
       "      <td>More than 2 hour</td>\n",
       "      <td>30 - 60 minutes</td>\n",
       "      <td>No</td>\n",
       "    </tr>\n",
       "    <tr>\n",
       "      <th>231</th>\n",
       "      <td>2 - 3 hour</td>\n",
       "      <td>30 - 60 Minute</td>\n",
       "      <td>30 - 60 minutes</td>\n",
       "      <td>No</td>\n",
       "    </tr>\n",
       "    <tr>\n",
       "      <th>232</th>\n",
       "      <td>30 - 60 minute</td>\n",
       "      <td>30 - 60 Minute</td>\n",
       "      <td>2.30 - 3 hour</td>\n",
       "      <td>No</td>\n",
       "    </tr>\n",
       "    <tr>\n",
       "      <th>233</th>\n",
       "      <td>0 - 30 minute</td>\n",
       "      <td>More than 2 hour</td>\n",
       "      <td>2.30 - 3 hour</td>\n",
       "      <td>No</td>\n",
       "    </tr>\n",
       "    <tr>\n",
       "      <th>234</th>\n",
       "      <td>3 - 4 hour</td>\n",
       "      <td>30 - 60 Minute</td>\n",
       "      <td>2.30 - 3 hour</td>\n",
       "      <td>No</td>\n",
       "    </tr>\n",
       "  </tbody>\n",
       "</table>\n",
       "<p>235 rows × 4 columns</p>\n",
       "</div>"
      ],
      "text/plain": [
       "    DailyStudingTime GamesSpendingTime   TravellingTime PartTimeJob?\n",
       "0      0 - 30 minute     1.30 - 2 hour  30 - 60 minutes           No\n",
       "1     30 - 60 minute     1 - 1.30 hour   0 - 30 minutes           No\n",
       "2         1 - 2 Hour  More than 2 hour  30 - 60 minutes           No\n",
       "3         1 - 2 Hour     1.30 - 2 hour   0 - 30 minutes           No\n",
       "4     30 - 60 minute     1.30 - 2 hour  30 - 60 minutes           No\n",
       "..               ...               ...              ...          ...\n",
       "230   30 - 60 minute  More than 2 hour  30 - 60 minutes           No\n",
       "231       2 - 3 hour    30 - 60 Minute  30 - 60 minutes           No\n",
       "232   30 - 60 minute    30 - 60 Minute    2.30 - 3 hour           No\n",
       "233    0 - 30 minute  More than 2 hour    2.30 - 3 hour           No\n",
       "234       3 - 4 hour    30 - 60 Minute    2.30 - 3 hour           No\n",
       "\n",
       "[235 rows x 4 columns]"
      ]
     },
     "execution_count": 381,
     "metadata": {},
     "output_type": "execute_result"
    }
   ],
   "source": [
    "\n",
    "sb[[x for x in list(sb) if 'Time' in x]] #Выведем все поля с суффиксом Time\n",
    "\n"
   ]
  },
  {
   "cell_type": "code",
   "execution_count": 382,
   "metadata": {},
   "outputs": [],
   "source": [
    "\n",
    "st, gm, trvl = [], [], [] #В этих листах возьму нужные индексы\n",
    "nst, ngm, ntrvl = [], [], [] #В этих - переведу все в минуты\n",
    "\n",
    "\n",
    "#DailyStudingTime:\n",
    "for i in sb.DailyStudingTime:\n",
    "    i = i.split()\n",
    "    if i[0] in ('More', 'more'):\n",
    "        st.append(i[-2]+' '+i[-1])\n",
    "    else: st.append(i[0]+' '+i[-1])\n",
    "\n",
    "for j in st:\n",
    "    j = j.split()\n",
    "    if j[-1] in ('Hour', 'hour'):\n",
    "        nst.append(float(j[0])*60)\n",
    "    else: nst.append(int(j[0]))\n",
    "        \n",
    "\n",
    "        \n",
    "#GamesSpendingTime:        \n",
    "for i in sb.GamesSpendingTime:\n",
    "    i = i.split()\n",
    "    if i[0] in ('More', 'more'):\n",
    "        gm.append(i[-2]+' '+i[-1])\n",
    "    else: gm.append(i[0]+' '+i[-1])\n",
    "        \n",
    "for j in gm:\n",
    "    j = j.split()\n",
    "    if j[-1] in ('Hour', 'hour'):\n",
    "        ngm.append(float(j[0])*60)\n",
    "    else: ngm.append(int(j[0]))        \n",
    "\n",
    "        \n",
    "        \n",
    "#TravellingTime:       \n",
    "for i in sb.TravellingTime:\n",
    "    i = i.split()\n",
    "    if i[0] in ('More', 'more'):\n",
    "        trvl.append(i[-2]+' '+i[-1])\n",
    "    else: trvl.append(i[0]+' '+i[-1])\n",
    "    \n",
    "for j in trvl:\n",
    "    j = j.split()\n",
    "    if j[-1] in ('Hour', 'hour'):\n",
    "        ntrvl.append(float(j[0])*60)\n",
    "    else: ntrvl.append(int(j[0])) \n",
    "\n"
   ]
  },
  {
   "cell_type": "code",
   "execution_count": 383,
   "metadata": {},
   "outputs": [
    {
     "data": {
      "text/html": [
       "<div>\n",
       "<style scoped>\n",
       "    .dataframe tbody tr th:only-of-type {\n",
       "        vertical-align: middle;\n",
       "    }\n",
       "\n",
       "    .dataframe tbody tr th {\n",
       "        vertical-align: top;\n",
       "    }\n",
       "\n",
       "    .dataframe thead th {\n",
       "        text-align: right;\n",
       "    }\n",
       "</style>\n",
       "<table border=\"1\" class=\"dataframe\">\n",
       "  <thead>\n",
       "    <tr style=\"text-align: right;\">\n",
       "      <th></th>\n",
       "      <th>Stud_time</th>\n",
       "      <th>Game_time</th>\n",
       "      <th>Travel_time</th>\n",
       "    </tr>\n",
       "  </thead>\n",
       "  <tbody>\n",
       "    <tr>\n",
       "      <th>0</th>\n",
       "      <td>0.0</td>\n",
       "      <td>78.0</td>\n",
       "      <td>30.0</td>\n",
       "    </tr>\n",
       "    <tr>\n",
       "      <th>1</th>\n",
       "      <td>30.0</td>\n",
       "      <td>60.0</td>\n",
       "      <td>0.0</td>\n",
       "    </tr>\n",
       "    <tr>\n",
       "      <th>2</th>\n",
       "      <td>60.0</td>\n",
       "      <td>120.0</td>\n",
       "      <td>30.0</td>\n",
       "    </tr>\n",
       "    <tr>\n",
       "      <th>3</th>\n",
       "      <td>60.0</td>\n",
       "      <td>78.0</td>\n",
       "      <td>0.0</td>\n",
       "    </tr>\n",
       "    <tr>\n",
       "      <th>4</th>\n",
       "      <td>30.0</td>\n",
       "      <td>78.0</td>\n",
       "      <td>30.0</td>\n",
       "    </tr>\n",
       "    <tr>\n",
       "      <th>...</th>\n",
       "      <td>...</td>\n",
       "      <td>...</td>\n",
       "      <td>...</td>\n",
       "    </tr>\n",
       "    <tr>\n",
       "      <th>230</th>\n",
       "      <td>30.0</td>\n",
       "      <td>120.0</td>\n",
       "      <td>30.0</td>\n",
       "    </tr>\n",
       "    <tr>\n",
       "      <th>231</th>\n",
       "      <td>120.0</td>\n",
       "      <td>30.0</td>\n",
       "      <td>30.0</td>\n",
       "    </tr>\n",
       "    <tr>\n",
       "      <th>232</th>\n",
       "      <td>30.0</td>\n",
       "      <td>30.0</td>\n",
       "      <td>138.0</td>\n",
       "    </tr>\n",
       "    <tr>\n",
       "      <th>233</th>\n",
       "      <td>0.0</td>\n",
       "      <td>120.0</td>\n",
       "      <td>138.0</td>\n",
       "    </tr>\n",
       "    <tr>\n",
       "      <th>234</th>\n",
       "      <td>180.0</td>\n",
       "      <td>30.0</td>\n",
       "      <td>138.0</td>\n",
       "    </tr>\n",
       "  </tbody>\n",
       "</table>\n",
       "<p>235 rows × 3 columns</p>\n",
       "</div>"
      ],
      "text/plain": [
       "     Stud_time  Game_time  Travel_time\n",
       "0          0.0       78.0         30.0\n",
       "1         30.0       60.0          0.0\n",
       "2         60.0      120.0         30.0\n",
       "3         60.0       78.0          0.0\n",
       "4         30.0       78.0         30.0\n",
       "..         ...        ...          ...\n",
       "230       30.0      120.0         30.0\n",
       "231      120.0       30.0         30.0\n",
       "232       30.0       30.0        138.0\n",
       "233        0.0      120.0        138.0\n",
       "234      180.0       30.0        138.0\n",
       "\n",
       "[235 rows x 3 columns]"
      ]
     },
     "execution_count": 383,
     "metadata": {},
     "output_type": "execute_result"
    }
   ],
   "source": [
    "\n",
    "sb['Stud_time'], sb['Game_time'], sb['Travel_time'] = nst, ngm, ntrvl #Внесу листы в датафрейм\n",
    "sb[[x for x in list(sb) if 'time' in x]] #Визуал (Все данные в минутах)\n",
    "\n"
   ]
  },
  {
   "cell_type": "code",
   "execution_count": 384,
   "metadata": {},
   "outputs": [
    {
     "data": {
      "text/html": [
       "<div>\n",
       "<style scoped>\n",
       "    .dataframe tbody tr th:only-of-type {\n",
       "        vertical-align: middle;\n",
       "    }\n",
       "\n",
       "    .dataframe tbody tr th {\n",
       "        vertical-align: top;\n",
       "    }\n",
       "\n",
       "    .dataframe thead th {\n",
       "        text-align: right;\n",
       "    }\n",
       "</style>\n",
       "<table border=\"1\" class=\"dataframe\">\n",
       "  <thead>\n",
       "    <tr style=\"text-align: right;\">\n",
       "      <th></th>\n",
       "      <th>PartTimeJob?</th>\n",
       "    </tr>\n",
       "  </thead>\n",
       "  <tbody>\n",
       "    <tr>\n",
       "      <th>0</th>\n",
       "      <td>No</td>\n",
       "    </tr>\n",
       "    <tr>\n",
       "      <th>1</th>\n",
       "      <td>No</td>\n",
       "    </tr>\n",
       "    <tr>\n",
       "      <th>2</th>\n",
       "      <td>No</td>\n",
       "    </tr>\n",
       "    <tr>\n",
       "      <th>3</th>\n",
       "      <td>No</td>\n",
       "    </tr>\n",
       "    <tr>\n",
       "      <th>4</th>\n",
       "      <td>No</td>\n",
       "    </tr>\n",
       "    <tr>\n",
       "      <th>...</th>\n",
       "      <td>...</td>\n",
       "    </tr>\n",
       "    <tr>\n",
       "      <th>230</th>\n",
       "      <td>No</td>\n",
       "    </tr>\n",
       "    <tr>\n",
       "      <th>231</th>\n",
       "      <td>No</td>\n",
       "    </tr>\n",
       "    <tr>\n",
       "      <th>232</th>\n",
       "      <td>No</td>\n",
       "    </tr>\n",
       "    <tr>\n",
       "      <th>233</th>\n",
       "      <td>No</td>\n",
       "    </tr>\n",
       "    <tr>\n",
       "      <th>234</th>\n",
       "      <td>No</td>\n",
       "    </tr>\n",
       "  </tbody>\n",
       "</table>\n",
       "<p>235 rows × 1 columns</p>\n",
       "</div>"
      ],
      "text/plain": [
       "    PartTimeJob?\n",
       "0             No\n",
       "1             No\n",
       "2             No\n",
       "3             No\n",
       "4             No\n",
       "..           ...\n",
       "230           No\n",
       "231           No\n",
       "232           No\n",
       "233           No\n",
       "234           No\n",
       "\n",
       "[235 rows x 1 columns]"
      ]
     },
     "execution_count": 384,
     "metadata": {},
     "output_type": "execute_result"
    }
   ],
   "source": [
    "sb = sb.drop(columns=['DailyStudingTime', 'GamesSpendingTime', 'TravellingTime'])#дропну старые\n",
    "sb[[x for x in list(sb) if 'Time' in x]] #Проверка того, что прошлых столбцов не осталось"
   ]
  },
  {
   "cell_type": "code",
   "execution_count": 385,
   "metadata": {
    "scrolled": true
   },
   "outputs": [
    {
     "data": {
      "text/html": [
       "<div>\n",
       "<style scoped>\n",
       "    .dataframe tbody tr th:only-of-type {\n",
       "        vertical-align: middle;\n",
       "    }\n",
       "\n",
       "    .dataframe tbody tr th {\n",
       "        vertical-align: top;\n",
       "    }\n",
       "\n",
       "    .dataframe thead th {\n",
       "        text-align: right;\n",
       "    }\n",
       "</style>\n",
       "<table border=\"1\" class=\"dataframe\">\n",
       "  <thead>\n",
       "    <tr style=\"text-align: right;\">\n",
       "      <th></th>\n",
       "      <th>CertificationCourses</th>\n",
       "      <th>Gender</th>\n",
       "      <th>Department</th>\n",
       "      <th>Height(CM)</th>\n",
       "      <th>Weight(KG)</th>\n",
       "      <th>10Mark</th>\n",
       "      <th>12Mark</th>\n",
       "      <th>CollegeMark</th>\n",
       "      <th>Hobbies</th>\n",
       "      <th>PreferToStudyIn</th>\n",
       "      <th>SalaryExpectation</th>\n",
       "      <th>LikeDegree</th>\n",
       "      <th>CareerBasedonDegree</th>\n",
       "      <th>StressLevel</th>\n",
       "      <th>FinancialStatus</th>\n",
       "      <th>PartTimeJob?</th>\n",
       "      <th>Stud_time</th>\n",
       "      <th>Game_time</th>\n",
       "      <th>Travel_time</th>\n",
       "    </tr>\n",
       "  </thead>\n",
       "  <tbody>\n",
       "    <tr>\n",
       "      <th>0</th>\n",
       "      <td>No</td>\n",
       "      <td>Male</td>\n",
       "      <td>BCA</td>\n",
       "      <td>100.0</td>\n",
       "      <td>58.0</td>\n",
       "      <td>79.0</td>\n",
       "      <td>65.00</td>\n",
       "      <td>80.0</td>\n",
       "      <td>Video Games</td>\n",
       "      <td>Morning</td>\n",
       "      <td>40000</td>\n",
       "      <td>No</td>\n",
       "      <td>0.50</td>\n",
       "      <td>Bad</td>\n",
       "      <td>Bad</td>\n",
       "      <td>No</td>\n",
       "      <td>0.0</td>\n",
       "      <td>78.0</td>\n",
       "      <td>30.0</td>\n",
       "    </tr>\n",
       "    <tr>\n",
       "      <th>1</th>\n",
       "      <td>No</td>\n",
       "      <td>Female</td>\n",
       "      <td>BCA</td>\n",
       "      <td>90.0</td>\n",
       "      <td>40.0</td>\n",
       "      <td>70.0</td>\n",
       "      <td>80.00</td>\n",
       "      <td>70.0</td>\n",
       "      <td>Cinema</td>\n",
       "      <td>Morning</td>\n",
       "      <td>15000</td>\n",
       "      <td>Yes</td>\n",
       "      <td>0.75</td>\n",
       "      <td>Bad</td>\n",
       "      <td>Bad</td>\n",
       "      <td>No</td>\n",
       "      <td>30.0</td>\n",
       "      <td>60.0</td>\n",
       "      <td>0.0</td>\n",
       "    </tr>\n",
       "    <tr>\n",
       "      <th>2</th>\n",
       "      <td>Yes</td>\n",
       "      <td>Male</td>\n",
       "      <td>BCA</td>\n",
       "      <td>159.0</td>\n",
       "      <td>78.0</td>\n",
       "      <td>69.5</td>\n",
       "      <td>61.00</td>\n",
       "      <td>55.0</td>\n",
       "      <td>Cinema</td>\n",
       "      <td>Anytime</td>\n",
       "      <td>13000</td>\n",
       "      <td>Yes</td>\n",
       "      <td>0.50</td>\n",
       "      <td>Awful</td>\n",
       "      <td>Bad</td>\n",
       "      <td>No</td>\n",
       "      <td>60.0</td>\n",
       "      <td>120.0</td>\n",
       "      <td>30.0</td>\n",
       "    </tr>\n",
       "    <tr>\n",
       "      <th>3</th>\n",
       "      <td>Yes</td>\n",
       "      <td>Female</td>\n",
       "      <td>BCA</td>\n",
       "      <td>147.0</td>\n",
       "      <td>20.0</td>\n",
       "      <td>70.0</td>\n",
       "      <td>59.00</td>\n",
       "      <td>58.0</td>\n",
       "      <td>Reading books</td>\n",
       "      <td>Anytime</td>\n",
       "      <td>1500000</td>\n",
       "      <td>No</td>\n",
       "      <td>0.50</td>\n",
       "      <td>Bad</td>\n",
       "      <td>good</td>\n",
       "      <td>No</td>\n",
       "      <td>60.0</td>\n",
       "      <td>78.0</td>\n",
       "      <td>0.0</td>\n",
       "    </tr>\n",
       "    <tr>\n",
       "      <th>4</th>\n",
       "      <td>No</td>\n",
       "      <td>Male</td>\n",
       "      <td>BCA</td>\n",
       "      <td>170.0</td>\n",
       "      <td>54.0</td>\n",
       "      <td>40.0</td>\n",
       "      <td>65.00</td>\n",
       "      <td>30.0</td>\n",
       "      <td>Video Games</td>\n",
       "      <td>Morning</td>\n",
       "      <td>50000</td>\n",
       "      <td>Yes</td>\n",
       "      <td>0.25</td>\n",
       "      <td>Good</td>\n",
       "      <td>good</td>\n",
       "      <td>No</td>\n",
       "      <td>30.0</td>\n",
       "      <td>78.0</td>\n",
       "      <td>30.0</td>\n",
       "    </tr>\n",
       "    <tr>\n",
       "      <th>5</th>\n",
       "      <td>Yes</td>\n",
       "      <td>Female</td>\n",
       "      <td>BCA</td>\n",
       "      <td>139.0</td>\n",
       "      <td>33.0</td>\n",
       "      <td>90.0</td>\n",
       "      <td>75.00</td>\n",
       "      <td>70.0</td>\n",
       "      <td>Cinema</td>\n",
       "      <td>Night</td>\n",
       "      <td>20000</td>\n",
       "      <td>Yes</td>\n",
       "      <td>0.50</td>\n",
       "      <td>Bad</td>\n",
       "      <td>good</td>\n",
       "      <td>No</td>\n",
       "      <td>30.0</td>\n",
       "      <td>30.0</td>\n",
       "      <td>0.0</td>\n",
       "    </tr>\n",
       "    <tr>\n",
       "      <th>6</th>\n",
       "      <td>Yes</td>\n",
       "      <td>Male</td>\n",
       "      <td>BCA</td>\n",
       "      <td>165.0</td>\n",
       "      <td>50.0</td>\n",
       "      <td>70.0</td>\n",
       "      <td>63.00</td>\n",
       "      <td>3.0</td>\n",
       "      <td>Reading books</td>\n",
       "      <td>Morning</td>\n",
       "      <td>15000</td>\n",
       "      <td>Yes</td>\n",
       "      <td>0.75</td>\n",
       "      <td>Good</td>\n",
       "      <td>good</td>\n",
       "      <td>No</td>\n",
       "      <td>60.0</td>\n",
       "      <td>60.0</td>\n",
       "      <td>60.0</td>\n",
       "    </tr>\n",
       "    <tr>\n",
       "      <th>7</th>\n",
       "      <td>No</td>\n",
       "      <td>Male</td>\n",
       "      <td>BCA</td>\n",
       "      <td>152.0</td>\n",
       "      <td>43.0</td>\n",
       "      <td>61.6</td>\n",
       "      <td>61.67</td>\n",
       "      <td>75.0</td>\n",
       "      <td>Sports</td>\n",
       "      <td>Morning</td>\n",
       "      <td>25000</td>\n",
       "      <td>Yes</td>\n",
       "      <td>0.50</td>\n",
       "      <td>Good</td>\n",
       "      <td>good</td>\n",
       "      <td>No</td>\n",
       "      <td>60.0</td>\n",
       "      <td>60.0</td>\n",
       "      <td>60.0</td>\n",
       "    </tr>\n",
       "    <tr>\n",
       "      <th>8</th>\n",
       "      <td>No</td>\n",
       "      <td>Male</td>\n",
       "      <td>BCA</td>\n",
       "      <td>190.0</td>\n",
       "      <td>85.0</td>\n",
       "      <td>88.2</td>\n",
       "      <td>67.50</td>\n",
       "      <td>60.0</td>\n",
       "      <td>Video Games</td>\n",
       "      <td>Morning</td>\n",
       "      <td>20000</td>\n",
       "      <td>Yes</td>\n",
       "      <td>0.75</td>\n",
       "      <td>Bad</td>\n",
       "      <td>Bad</td>\n",
       "      <td>No</td>\n",
       "      <td>0.0</td>\n",
       "      <td>78.0</td>\n",
       "      <td>60.0</td>\n",
       "    </tr>\n",
       "    <tr>\n",
       "      <th>9</th>\n",
       "      <td>No</td>\n",
       "      <td>Male</td>\n",
       "      <td>BCA</td>\n",
       "      <td>150.0</td>\n",
       "      <td>84.0</td>\n",
       "      <td>60.0</td>\n",
       "      <td>65.00</td>\n",
       "      <td>70.0</td>\n",
       "      <td>Video Games</td>\n",
       "      <td>Anytime</td>\n",
       "      <td>20000</td>\n",
       "      <td>Yes</td>\n",
       "      <td>0.75</td>\n",
       "      <td>Good</td>\n",
       "      <td>good</td>\n",
       "      <td>No</td>\n",
       "      <td>0.0</td>\n",
       "      <td>30.0</td>\n",
       "      <td>30.0</td>\n",
       "    </tr>\n",
       "    <tr>\n",
       "      <th>10</th>\n",
       "      <td>No</td>\n",
       "      <td>Male</td>\n",
       "      <td>BCA</td>\n",
       "      <td>99.0</td>\n",
       "      <td>50.0</td>\n",
       "      <td>75.0</td>\n",
       "      <td>70.00</td>\n",
       "      <td>60.0</td>\n",
       "      <td>Video Games</td>\n",
       "      <td>Morning</td>\n",
       "      <td>18000</td>\n",
       "      <td>Yes</td>\n",
       "      <td>0.75</td>\n",
       "      <td>Good</td>\n",
       "      <td>Bad</td>\n",
       "      <td>No</td>\n",
       "      <td>60.0</td>\n",
       "      <td>60.0</td>\n",
       "      <td>0.0</td>\n",
       "    </tr>\n",
       "    <tr>\n",
       "      <th>11</th>\n",
       "      <td>No</td>\n",
       "      <td>Female</td>\n",
       "      <td>BCA</td>\n",
       "      <td>152.0</td>\n",
       "      <td>51.0</td>\n",
       "      <td>60.0</td>\n",
       "      <td>55.00</td>\n",
       "      <td>65.0</td>\n",
       "      <td>Cinema</td>\n",
       "      <td>Night</td>\n",
       "      <td>20000</td>\n",
       "      <td>Yes</td>\n",
       "      <td>0.75</td>\n",
       "      <td>Bad</td>\n",
       "      <td>Bad</td>\n",
       "      <td>No</td>\n",
       "      <td>120.0</td>\n",
       "      <td>60.0</td>\n",
       "      <td>120.0</td>\n",
       "    </tr>\n",
       "    <tr>\n",
       "      <th>12</th>\n",
       "      <td>Yes</td>\n",
       "      <td>Female</td>\n",
       "      <td>BCA</td>\n",
       "      <td>158.0</td>\n",
       "      <td>64.0</td>\n",
       "      <td>59.0</td>\n",
       "      <td>54.00</td>\n",
       "      <td>80.0</td>\n",
       "      <td>Reading books</td>\n",
       "      <td>Morning</td>\n",
       "      <td>18000</td>\n",
       "      <td>Yes</td>\n",
       "      <td>0.75</td>\n",
       "      <td>Bad</td>\n",
       "      <td>good</td>\n",
       "      <td>No</td>\n",
       "      <td>30.0</td>\n",
       "      <td>1.0</td>\n",
       "      <td>30.0</td>\n",
       "    </tr>\n",
       "    <tr>\n",
       "      <th>13</th>\n",
       "      <td>No</td>\n",
       "      <td>Male</td>\n",
       "      <td>BCA</td>\n",
       "      <td>160.0</td>\n",
       "      <td>52.0</td>\n",
       "      <td>50.0</td>\n",
       "      <td>55.00</td>\n",
       "      <td>50.0</td>\n",
       "      <td>Cinema</td>\n",
       "      <td>Anytime</td>\n",
       "      <td>17</td>\n",
       "      <td>Yes</td>\n",
       "      <td>0.75</td>\n",
       "      <td>Good</td>\n",
       "      <td>Awful</td>\n",
       "      <td>No</td>\n",
       "      <td>0.0</td>\n",
       "      <td>30.0</td>\n",
       "      <td>78.0</td>\n",
       "    </tr>\n",
       "    <tr>\n",
       "      <th>14</th>\n",
       "      <td>Yes</td>\n",
       "      <td>Male</td>\n",
       "      <td>BCA</td>\n",
       "      <td>160.0</td>\n",
       "      <td>83.0</td>\n",
       "      <td>89.5</td>\n",
       "      <td>69.70</td>\n",
       "      <td>70.0</td>\n",
       "      <td>Cinema</td>\n",
       "      <td>Anytime</td>\n",
       "      <td>60000</td>\n",
       "      <td>Yes</td>\n",
       "      <td>0.75</td>\n",
       "      <td>Good</td>\n",
       "      <td>good</td>\n",
       "      <td>No</td>\n",
       "      <td>30.0</td>\n",
       "      <td>1.0</td>\n",
       "      <td>30.0</td>\n",
       "    </tr>\n",
       "  </tbody>\n",
       "</table>\n",
       "</div>"
      ],
      "text/plain": [
       "   CertificationCourses  Gender Department  Height(CM)  Weight(KG)  10Mark  \\\n",
       "0                    No    Male        BCA       100.0        58.0    79.0   \n",
       "1                    No  Female        BCA        90.0        40.0    70.0   \n",
       "2                   Yes    Male        BCA       159.0        78.0    69.5   \n",
       "3                   Yes  Female        BCA       147.0        20.0    70.0   \n",
       "4                    No    Male        BCA       170.0        54.0    40.0   \n",
       "5                   Yes  Female        BCA       139.0        33.0    90.0   \n",
       "6                   Yes    Male        BCA       165.0        50.0    70.0   \n",
       "7                    No    Male        BCA       152.0        43.0    61.6   \n",
       "8                    No    Male        BCA       190.0        85.0    88.2   \n",
       "9                    No    Male        BCA       150.0        84.0    60.0   \n",
       "10                   No    Male        BCA        99.0        50.0    75.0   \n",
       "11                   No  Female        BCA       152.0        51.0    60.0   \n",
       "12                  Yes  Female        BCA       158.0        64.0    59.0   \n",
       "13                   No    Male        BCA       160.0        52.0    50.0   \n",
       "14                  Yes    Male        BCA       160.0        83.0    89.5   \n",
       "\n",
       "    12Mark  CollegeMark        Hobbies PreferToStudyIn  SalaryExpectation  \\\n",
       "0    65.00         80.0    Video Games         Morning              40000   \n",
       "1    80.00         70.0         Cinema         Morning              15000   \n",
       "2    61.00         55.0         Cinema         Anytime              13000   \n",
       "3    59.00         58.0  Reading books         Anytime            1500000   \n",
       "4    65.00         30.0    Video Games         Morning              50000   \n",
       "5    75.00         70.0         Cinema           Night              20000   \n",
       "6    63.00          3.0  Reading books         Morning              15000   \n",
       "7    61.67         75.0         Sports         Morning              25000   \n",
       "8    67.50         60.0    Video Games         Morning              20000   \n",
       "9    65.00         70.0    Video Games         Anytime              20000   \n",
       "10   70.00         60.0    Video Games         Morning              18000   \n",
       "11   55.00         65.0         Cinema           Night              20000   \n",
       "12   54.00         80.0  Reading books         Morning              18000   \n",
       "13   55.00         50.0         Cinema         Anytime                 17   \n",
       "14   69.70         70.0         Cinema         Anytime              60000   \n",
       "\n",
       "   LikeDegree  CareerBasedonDegree StressLevel  FinancialStatus PartTimeJob?  \\\n",
       "0          No                 0.50          Bad             Bad           No   \n",
       "1         Yes                 0.75          Bad             Bad           No   \n",
       "2         Yes                 0.50        Awful             Bad           No   \n",
       "3          No                 0.50          Bad            good           No   \n",
       "4         Yes                 0.25         Good            good           No   \n",
       "5         Yes                 0.50          Bad            good           No   \n",
       "6         Yes                 0.75         Good            good           No   \n",
       "7         Yes                 0.50         Good            good           No   \n",
       "8         Yes                 0.75          Bad             Bad           No   \n",
       "9         Yes                 0.75         Good            good           No   \n",
       "10        Yes                 0.75         Good             Bad           No   \n",
       "11        Yes                 0.75          Bad             Bad           No   \n",
       "12        Yes                 0.75          Bad            good           No   \n",
       "13        Yes                 0.75         Good           Awful           No   \n",
       "14        Yes                 0.75         Good            good           No   \n",
       "\n",
       "    Stud_time  Game_time  Travel_time  \n",
       "0         0.0       78.0         30.0  \n",
       "1        30.0       60.0          0.0  \n",
       "2        60.0      120.0         30.0  \n",
       "3        60.0       78.0          0.0  \n",
       "4        30.0       78.0         30.0  \n",
       "5        30.0       30.0          0.0  \n",
       "6        60.0       60.0         60.0  \n",
       "7        60.0       60.0         60.0  \n",
       "8         0.0       78.0         60.0  \n",
       "9         0.0       30.0         30.0  \n",
       "10       60.0       60.0          0.0  \n",
       "11      120.0       60.0        120.0  \n",
       "12       30.0        1.0         30.0  \n",
       "13        0.0       30.0         78.0  \n",
       "14       30.0        1.0         30.0  "
      ]
     },
     "execution_count": 385,
     "metadata": {},
     "output_type": "execute_result"
    }
   ],
   "source": [
    "sb.head(15) #Итоговый вид датафрейма"
   ]
  },
  {
   "cell_type": "markdown",
   "metadata": {},
   "source": [
    "Выберем непрерывные переменные, которые будут использоваться для предсказания целевой переменной с помощью knn"
   ]
  },
  {
   "cell_type": "code",
   "execution_count": 386,
   "metadata": {},
   "outputs": [
    {
     "data": {
      "text/plain": [
       "['Height(CM)',\n",
       " 'Weight(KG)',\n",
       " '10Mark',\n",
       " '12Mark',\n",
       " 'CollegeMark',\n",
       " 'SalaryExpectation',\n",
       " 'CareerBasedonDegree',\n",
       " 'Stud_time',\n",
       " 'Game_time',\n",
       " 'Travel_time']"
      ]
     },
     "execution_count": 386,
     "metadata": {},
     "output_type": "execute_result"
    }
   ],
   "source": [
    "\n",
    "rv = sb.select_dtypes(include=['float64', 'int64']).columns.tolist()\n",
    "\n",
    "rv #выделим в список все челочисленные значения.\n"
   ]
  },
  {
   "cell_type": "code",
   "execution_count": 400,
   "metadata": {},
   "outputs": [
    {
     "data": {
      "image/png": "[encoded data removed]",
      "text/plain": [
       "<Figure size 1080x1332 with 12 Axes>"
      ]
     },
     "metadata": {},
     "output_type": "display_data"
    }
   ],
   "source": [
    "\n",
    "plt.rcParams['font.size'] = 14\n",
    "_ = sb[rv].hist(figsize=(15,18.5)) #Рассмотрим распределение выделенных признаков\n",
    "plt.subplots_adjust(wspace=0.3, hspace=0.38)\n",
    "\n",
    "\n",
    "#Похоже, что некоторые признаки имеют выбросы: Height, 10Mark, Salary "
   ]
  },
  {
   "cell_type": "code",
   "execution_count": 401,
   "metadata": {},
   "outputs": [
    {
     "data": {
      "image/png": "[encoded data removed]",
      "text/plain": [
       "<Figure size 1008x1296 with 10 Axes>"
      ]
     },
     "metadata": {},
     "output_type": "display_data"
    }
   ],
   "source": [
    "# Посмотрим на наличие выбросов подробнее:\n",
    "\n",
    "plt.rcParams['font.size'] = 16\n",
    "fig, ax = plt.subplots(5,2, figsize=(14, 18))\n",
    "\n",
    "for i, val in enumerate(rv):\n",
    "    ax = plt.subplot(5, 2, i+1)\n",
    "    sb.boxplot(val, ax=ax)\n",
    "\n",
    "    \n",
    "fig.tight_layout(h_pad=0.4)\n",
    "\n",
    "\n",
    "#Почти все переменные имеют выбросы (все, кроме двух)\n",
    "#(Пока не будем их удалять, тк. наблюдений итак мало)"
   ]
  },
  {
   "cell_type": "markdown",
   "metadata": {},
   "source": [
    "---"
   ]
  },
  {
   "cell_type": "markdown",
   "metadata": {},
   "source": [
    "<b>Рассмотрим как распределена целевая переменная, выбранная по условию задания:</b>"
   ]
  },
  {
   "cell_type": "code",
   "execution_count": 265,
   "metadata": {},
   "outputs": [
    {
     "data": {
      "text/plain": [
       "<AxesSubplot:>"
      ]
     },
     "execution_count": 265,
     "metadata": {},
     "output_type": "execute_result"
    },
    {
     "data": {
      "image/png": "[encoded data removed]",
      "text/plain": [
       "<Figure size 1080x576 with 1 Axes>"
      ]
     },
     "metadata": {},
     "output_type": "display_data"
    }
   ],
   "source": [
    "\n",
    "Y = sb.LikeDegree\n",
    "Y.hist(figsize=(15,8), xlabelsize=18, ylabelsize=18)\n",
    "\n",
    "#Бернуллиевское распределение с сильным диссбалансом классов\n"
   ]
  },
  {
   "cell_type": "code",
   "execution_count": 266,
   "metadata": {},
   "outputs": [
    {
     "data": {
      "text/plain": [
       "count     235\n",
       "unique      2\n",
       "top       Yes\n",
       "freq      215\n",
       "Name: LikeDegree, dtype: object"
      ]
     },
     "execution_count": 266,
     "metadata": {},
     "output_type": "execute_result"
    }
   ],
   "source": [
    "Y.describe() #Еще один способ в данной ситуации проверить распределение классов"
   ]
  },
  {
   "cell_type": "markdown",
   "metadata": {},
   "source": [
    "\n",
    "Как видно по результатам двух тестов, ответов \"ДА\"(215) гораздо больше, чем ответов \"НЕТ\"(20).\n",
    "Это говорит о том, что присутствует дисбаланс классов. \n",
    "\n",
    "В таком случае, бессмысленно использовать Accuracy, тк он является бесполезным при неравных классах.\n",
    "Вместо этого, гораздо полезнее оценивать модель в дальнейшем через Recall и Precision. \n",
    "F-measure тоже подойдет.\n",
    "\n"
   ]
  },
  {
   "cell_type": "markdown",
   "metadata": {},
   "source": [
    "---"
   ]
  },
  {
   "cell_type": "markdown",
   "metadata": {},
   "source": [
    "Переведем целевую переменную в числовой формат"
   ]
  },
  {
   "cell_type": "code",
   "execution_count": 267,
   "metadata": {},
   "outputs": [],
   "source": [
    "Y = Y.map({'Yes':1, 'No':0})"
   ]
  },
  {
   "cell_type": "code",
   "execution_count": 268,
   "metadata": {},
   "outputs": [
    {
     "data": {
      "text/plain": [
       "1    215\n",
       "0     20\n",
       "Name: LikeDegree, dtype: int64"
      ]
     },
     "execution_count": 268,
     "metadata": {},
     "output_type": "execute_result"
    }
   ],
   "source": [
    "Y.value_counts() #Как видно, все прошло успешно"
   ]
  },
  {
   "cell_type": "code",
   "execution_count": 269,
   "metadata": {},
   "outputs": [
    {
     "data": {
      "text/plain": [
       "<AxesSubplot:>"
      ]
     },
     "execution_count": 269,
     "metadata": {},
     "output_type": "execute_result"
    },
    {
     "data": {
      "image/png": "[encoded data removed]",
      "text/plain": [
       "<Figure size 648x432 with 1 Axes>"
      ]
     },
     "metadata": {},
     "output_type": "display_data"
    }
   ],
   "source": [
    "Y.hist(figsize=(9,6), xlabelsize=15, ylabelsize=15) #Еще одна проверка"
   ]
  },
  {
   "cell_type": "code",
   "execution_count": 335,
   "metadata": {},
   "outputs": [],
   "source": [
    "sb.LikeDegree = Y #Внесем изменение в исходный датафрейм"
   ]
  },
  {
   "cell_type": "markdown",
   "metadata": {},
   "source": [
    "---"
   ]
  },
  {
   "cell_type": "markdown",
   "metadata": {},
   "source": [
    "### Строим модели\n",
    "<b>Разбобьем выборку на обучающую и тестовую.</b>"
   ]
  },
  {
   "cell_type": "code",
   "execution_count": 271,
   "metadata": {},
   "outputs": [],
   "source": [
    "import sklearn.metrics"
   ]
  },
  {
   "cell_type": "code",
   "execution_count": 272,
   "metadata": {},
   "outputs": [],
   "source": [
    "XX = (sb.select_dtypes(include=['int64', 'float64']).drop('LikeDegree', axis=1))\n",
    "#Y уже задано"
   ]
  },
  {
   "cell_type": "code",
   "execution_count": 273,
   "metadata": {},
   "outputs": [
    {
     "name": "stdout",
     "output_type": "stream",
     "text": [
      "(164, 10)\n",
      "(71, 10)\n"
     ]
    }
   ],
   "source": [
    "\n",
    "x_train, x_test, y_train, y_test = tts(XX, Y, test_size=0.3, random_state=200000, stratify=Y)\n",
    "\n",
    "print(x_train.shape)\n",
    "print(x_test.shape)\n"
   ]
  },
  {
   "cell_type": "code",
   "execution_count": 274,
   "metadata": {},
   "outputs": [
    {
     "data": {
      "text/plain": [
       "1    0.914634\n",
       "0    0.085366\n",
       "Name: LikeDegree, dtype: float64"
      ]
     },
     "execution_count": 274,
     "metadata": {},
     "output_type": "execute_result"
    }
   ],
   "source": [
    "y_train.value_counts()/len(y_train)"
   ]
  },
  {
   "cell_type": "code",
   "execution_count": 275,
   "metadata": {},
   "outputs": [
    {
     "data": {
      "text/plain": [
       "1    0.915493\n",
       "0    0.084507\n",
       "Name: LikeDegree, dtype: float64"
      ]
     },
     "execution_count": 275,
     "metadata": {},
     "output_type": "execute_result"
    }
   ],
   "source": [
    "y_test.value_counts()/len(y_test)"
   ]
  },
  {
   "cell_type": "markdown",
   "metadata": {},
   "source": [
    "Распределения на обучающей и тестовой выборках очень похожи => мы делаем хорошие предсказания.\n",
    "\n",
    "Также по полученным значениям еще раз понятно, что accuracy не подойдет для оценки качества (сильный дизбаланс)"
   ]
  },
  {
   "cell_type": "markdown",
   "metadata": {},
   "source": [
    "---"
   ]
  },
  {
   "cell_type": "markdown",
   "metadata": {},
   "source": [
    "<b>Построим наивную модель предсказания для целевой переменной.</b>"
   ]
  },
  {
   "cell_type": "code",
   "execution_count": 276,
   "metadata": {},
   "outputs": [
    {
     "data": {
      "text/plain": [
       "array([1., 1., 1., 1., 1., 1., 1., 1., 1., 1., 1., 1., 1., 1., 1., 1., 1.,\n",
       "       1., 1., 1., 1., 1., 1., 1., 1., 1., 1., 1., 1., 1., 1., 1., 1., 1.,\n",
       "       1., 1., 1., 1., 1., 1., 1., 1., 1., 1., 1., 1., 1., 1., 1., 1., 1.,\n",
       "       1., 1., 1., 1., 1., 1., 1., 1., 1., 1., 1., 1., 1., 1., 1., 1., 1.,\n",
       "       1., 1., 1.])"
      ]
     },
     "execution_count": 276,
     "metadata": {},
     "output_type": "execute_result"
    }
   ],
   "source": [
    "\n",
    "y_pn = np.ones(len(y_test)) #Спрогнозировали по Все студенты довольны (=1)\n",
    "y_pn #Вывели наивный прогноз\n",
    "\n"
   ]
  },
  {
   "cell_type": "markdown",
   "metadata": {},
   "source": [
    "<b>Построем модели ближайших соседей для 3, 5, 7 соседей. </b>"
   ]
  },
  {
   "cell_type": "code",
   "execution_count": 277,
   "metadata": {},
   "outputs": [],
   "source": [
    "x_train, x_test = x_train[rv], x_test[rv] \n",
    "#Возьмем только непрерывные переменные, выделенные ранее."
   ]
  },
  {
   "cell_type": "code",
   "execution_count": 278,
   "metadata": {},
   "outputs": [],
   "source": [
    "y_train, y_test = y_train.astype('int64'), y_test.astype('int64') \n",
    "#Переведем в числовой формат (иначе Knn выдаст ошибку)."
   ]
  },
  {
   "cell_type": "code",
   "execution_count": 279,
   "metadata": {},
   "outputs": [],
   "source": [
    "\n",
    "kn3 = knn(n_neighbors = 3) #3 соседей.\n",
    "kn5 = knn(n_neighbors = 5) #5 соседей.\n",
    "kn7 = knn(n_neighbors = 7) #7 соседей.\n",
    "\n"
   ]
  },
  {
   "cell_type": "code",
   "execution_count": 280,
   "metadata": {
    "scrolled": true
   },
   "outputs": [
    {
     "data": {
      "text/plain": [
       "array([1, 1, 1, 1, 1, 1, 1, 1, 1, 1, 1, 1, 1, 1, 1, 1, 1, 1, 1, 1, 1, 1,\n",
       "       1, 1, 1, 1, 1, 1, 1, 1, 1, 1, 1, 1, 1, 1, 1, 1, 1, 1, 1, 1, 1, 1,\n",
       "       1, 1, 1, 1, 1, 1, 1, 1, 1, 1, 1, 1, 1, 1, 1, 1, 1, 1, 1, 1, 1, 1,\n",
       "       1, 1, 1, 1, 1], dtype=int64)"
      ]
     },
     "execution_count": 280,
     "metadata": {},
     "output_type": "execute_result"
    }
   ],
   "source": [
    "#Работаем с 3 соседями:\n",
    "\n",
    "kn3.fit(x_train, y_train) #обучаем по тренировочной\n",
    "y_pkn3 = kn3.predict(x_test) #проверяем на тестовой\n",
    "\n",
    "y_pkn3 #Прогноз\n"
   ]
  },
  {
   "cell_type": "code",
   "execution_count": 281,
   "metadata": {
    "scrolled": true
   },
   "outputs": [
    {
     "data": {
      "text/plain": [
       "array([1, 1, 1, 1, 1, 1, 1, 1, 1, 1, 1, 1, 1, 1, 1, 1, 1, 1, 1, 1, 1, 1,\n",
       "       1, 1, 1, 1, 1, 1, 1, 1, 1, 1, 1, 1, 1, 1, 1, 1, 1, 1, 1, 1, 1, 1,\n",
       "       1, 1, 1, 1, 1, 1, 1, 1, 1, 1, 1, 1, 1, 1, 1, 1, 1, 1, 1, 1, 1, 1,\n",
       "       1, 1, 1, 1, 1], dtype=int64)"
      ]
     },
     "execution_count": 281,
     "metadata": {},
     "output_type": "execute_result"
    }
   ],
   "source": [
    "#Работаем с 5 соседями:\n",
    "\n",
    "kn5.fit(x_train, y_train) #обучаем по тренировочной\n",
    "y_pkn5 = kn5.predict(x_test) #проверяем на тестовой\n",
    "\n",
    "y_pkn5 #Прогноз\n"
   ]
  },
  {
   "cell_type": "code",
   "execution_count": 287,
   "metadata": {
    "scrolled": true
   },
   "outputs": [
    {
     "data": {
      "text/plain": [
       "array([1, 1, 1, 1, 1, 1, 1, 1, 1, 1, 1, 1, 1, 1, 1, 1, 1, 1, 1, 1, 1, 1,\n",
       "       1, 1, 1, 1, 1, 1, 1, 1, 1, 1, 1, 1, 1, 1, 1, 1, 1, 1, 1, 1, 1, 1,\n",
       "       1, 1, 1, 1, 1, 1, 1, 1, 1, 1, 1, 1, 1, 1, 1, 1, 1, 1, 1, 1, 1, 1,\n",
       "       1, 1, 1, 1, 1], dtype=int64)"
      ]
     },
     "execution_count": 287,
     "metadata": {},
     "output_type": "execute_result"
    }
   ],
   "source": [
    "#Работаем с 7 соседями:\n",
    "\n",
    "kn7.fit(x_train, y_train) #обучаем по тренировочной\n",
    "y_pkn7 = kn7.predict(x_test) #проверяем на тестовой\n",
    "\n",
    "y_pkn7 #Прогноз\n"
   ]
  },
  {
   "cell_type": "markdown",
   "metadata": {},
   "source": [
    "<b>После того, как модели построены, попробуем их оценить по несольким метрикам качества:</b>"
   ]
  },
  {
   "cell_type": "code",
   "execution_count": 288,
   "metadata": {
    "scrolled": true
   },
   "outputs": [
    {
     "data": {
      "text/plain": [
       "0.9154929577464789"
      ]
     },
     "execution_count": 288,
     "metadata": {},
     "output_type": "execute_result"
    }
   ],
   "source": [
    "#Качество наивного прогноза:\n",
    "\n",
    "precision_score(y_test, y_pn)\n",
    "\n"
   ]
  },
  {
   "cell_type": "code",
   "execution_count": 289,
   "metadata": {},
   "outputs": [
    {
     "data": {
      "text/plain": [
       "1.0"
      ]
     },
     "execution_count": 289,
     "metadata": {},
     "output_type": "execute_result"
    }
   ],
   "source": [
    "recall_score(y_test, y_pn)"
   ]
  },
  {
   "cell_type": "code",
   "execution_count": 290,
   "metadata": {},
   "outputs": [
    {
     "data": {
      "text/plain": [
       "0.9558823529411764"
      ]
     },
     "execution_count": 290,
     "metadata": {},
     "output_type": "execute_result"
    }
   ],
   "source": [
    "f1_score(y_test, y_pn)"
   ]
  },
  {
   "cell_type": "markdown",
   "metadata": {},
   "source": [
    "-----------------------------------------------------------"
   ]
  },
  {
   "cell_type": "code",
   "execution_count": 291,
   "metadata": {},
   "outputs": [
    {
     "data": {
      "text/plain": [
       "0.9154929577464789"
      ]
     },
     "execution_count": 291,
     "metadata": {},
     "output_type": "execute_result"
    }
   ],
   "source": [
    "#Качество прогноза для 3 соседей:\n",
    "\n",
    "precision_score(y_test, y_pkn3)\n",
    "\n"
   ]
  },
  {
   "cell_type": "code",
   "execution_count": 292,
   "metadata": {},
   "outputs": [
    {
     "data": {
      "text/plain": [
       "1.0"
      ]
     },
     "execution_count": 292,
     "metadata": {},
     "output_type": "execute_result"
    }
   ],
   "source": [
    "recall_score(y_test, y_pkn3)"
   ]
  },
  {
   "cell_type": "code",
   "execution_count": 293,
   "metadata": {},
   "outputs": [
    {
     "data": {
      "text/plain": [
       "0.9558823529411764"
      ]
     },
     "execution_count": 293,
     "metadata": {},
     "output_type": "execute_result"
    }
   ],
   "source": [
    "f1_score(y_test, y_pkn3)"
   ]
  },
  {
   "cell_type": "markdown",
   "metadata": {},
   "source": [
    "---------------------------"
   ]
  },
  {
   "cell_type": "code",
   "execution_count": 294,
   "metadata": {},
   "outputs": [
    {
     "data": {
      "text/plain": [
       "0.9154929577464789"
      ]
     },
     "execution_count": 294,
     "metadata": {},
     "output_type": "execute_result"
    }
   ],
   "source": [
    "#Качество прогноза для 5 соседей:\n",
    "\n",
    "precision_score(y_test, y_pkn5)\n",
    "\n"
   ]
  },
  {
   "cell_type": "code",
   "execution_count": 295,
   "metadata": {},
   "outputs": [
    {
     "data": {
      "text/plain": [
       "1.0"
      ]
     },
     "execution_count": 295,
     "metadata": {},
     "output_type": "execute_result"
    }
   ],
   "source": [
    "recall_score(y_test, y_pkn5)"
   ]
  },
  {
   "cell_type": "code",
   "execution_count": 296,
   "metadata": {},
   "outputs": [
    {
     "data": {
      "text/plain": [
       "0.9558823529411764"
      ]
     },
     "execution_count": 296,
     "metadata": {},
     "output_type": "execute_result"
    }
   ],
   "source": [
    "f1_score(y_test, y_pkn5)"
   ]
  },
  {
   "cell_type": "markdown",
   "metadata": {},
   "source": [
    "-----------------"
   ]
  },
  {
   "cell_type": "code",
   "execution_count": 297,
   "metadata": {},
   "outputs": [
    {
     "data": {
      "text/plain": [
       "0.9154929577464789"
      ]
     },
     "execution_count": 297,
     "metadata": {},
     "output_type": "execute_result"
    }
   ],
   "source": [
    "#Качество прогноза для 7 соседей:\n",
    "\n",
    "precision_score(y_test, y_pkn7)\n",
    "\n"
   ]
  },
  {
   "cell_type": "code",
   "execution_count": 298,
   "metadata": {},
   "outputs": [
    {
     "data": {
      "text/plain": [
       "1.0"
      ]
     },
     "execution_count": 298,
     "metadata": {},
     "output_type": "execute_result"
    }
   ],
   "source": [
    "recall_score(y_test, y_pkn7)"
   ]
  },
  {
   "cell_type": "code",
   "execution_count": 299,
   "metadata": {},
   "outputs": [
    {
     "data": {
      "text/plain": [
       "0.9558823529411764"
      ]
     },
     "execution_count": 299,
     "metadata": {},
     "output_type": "execute_result"
    }
   ],
   "source": [
    "f1_score(y_test, y_pkn7)"
   ]
  },
  {
   "cell_type": "markdown",
   "metadata": {},
   "source": [
    "На разных выборках (наивной, при 3, 5 и 7 соседях) метрики качества выдали одинаковые результаты.\n",
    "Ни одна модель не превосходит другую."
   ]
  },
  {
   "cell_type": "markdown",
   "metadata": {},
   "source": [
    "---"
   ]
  },
  {
   "cell_type": "markdown",
   "metadata": {},
   "source": [
    "<b>Применим шкалирование (MinMaxScaller).</b>"
   ]
  },
  {
   "cell_type": "code",
   "execution_count": 300,
   "metadata": {},
   "outputs": [],
   "source": [
    "\n",
    "s = mms()\n",
    "\n",
    "s.fit(x_train)\n",
    "x_ntrain, x_ntest = s.transform(x_train), s.transform(x_test)\n"
   ]
  },
  {
   "cell_type": "code",
   "execution_count": 301,
   "metadata": {},
   "outputs": [],
   "source": [
    " \n",
    "k_n3 = knn(n_neighbors=3) #3 соседей.\n",
    "k_n5 = knn(n_neighbors=5) #5 соседей.\n",
    "k_n7 = knn(n_neighbors=7) #7 соседей.\n"
   ]
  },
  {
   "cell_type": "markdown",
   "metadata": {},
   "source": [
    "---"
   ]
  },
  {
   "cell_type": "code",
   "execution_count": 302,
   "metadata": {},
   "outputs": [
    {
     "data": {
      "text/plain": [
       "array([1, 1, 1, 1, 1, 1, 1, 1, 1, 1, 1, 1, 1, 1, 1, 1, 1, 1, 1, 1, 1, 1,\n",
       "       1, 1, 1, 1, 1, 1, 1, 1, 1, 1, 1, 1, 1, 1, 1, 1, 1, 1, 1, 1, 1, 1,\n",
       "       1, 1, 1, 1, 1, 1, 1, 1, 1, 1, 1, 1, 1, 1, 1, 1, 1, 1, 1, 1, 1, 1,\n",
       "       1, 1, 1, 1, 1], dtype=int64)"
      ]
     },
     "execution_count": 302,
     "metadata": {},
     "output_type": "execute_result"
    }
   ],
   "source": [
    "#Работаем с 3 соседями: \n",
    "\n",
    "k_n3.fit(x_ntrain, y_train) #обучаем по тренировочной\n",
    "y_pk_n3 = k_n3.predict(x_ntest) #проверяем на тестовой\n",
    "\n",
    "y_pk_n3 #Прогноз\n",
    "\n"
   ]
  },
  {
   "cell_type": "code",
   "execution_count": 303,
   "metadata": {},
   "outputs": [
    {
     "data": {
      "text/plain": [
       "0.9154929577464789"
      ]
     },
     "execution_count": 303,
     "metadata": {},
     "output_type": "execute_result"
    }
   ],
   "source": [
    "#Качество прогноза для 3 соседей:\n",
    "\n",
    "precision_score(y_test, y_pk_n3) #То же самое качество"
   ]
  },
  {
   "cell_type": "code",
   "execution_count": 304,
   "metadata": {},
   "outputs": [
    {
     "data": {
      "text/plain": [
       "1.0"
      ]
     },
     "execution_count": 304,
     "metadata": {},
     "output_type": "execute_result"
    }
   ],
   "source": [
    "recall_score(y_test, y_pk_n3) #То же самое качество"
   ]
  },
  {
   "cell_type": "code",
   "execution_count": 305,
   "metadata": {},
   "outputs": [
    {
     "data": {
      "text/plain": [
       "0.9558823529411764"
      ]
     },
     "execution_count": 305,
     "metadata": {},
     "output_type": "execute_result"
    }
   ],
   "source": [
    "f1_score(y_test, y_pk_n3) #То же самое качество"
   ]
  },
  {
   "cell_type": "markdown",
   "metadata": {},
   "source": [
    "-----------"
   ]
  },
  {
   "cell_type": "code",
   "execution_count": 306,
   "metadata": {
    "scrolled": true
   },
   "outputs": [
    {
     "data": {
      "text/plain": [
       "array([1, 1, 1, 1, 1, 1, 1, 1, 1, 1, 1, 1, 1, 1, 1, 1, 1, 1, 1, 1, 1, 1,\n",
       "       1, 1, 1, 1, 1, 1, 1, 1, 1, 1, 1, 1, 1, 1, 1, 1, 1, 1, 1, 1, 1, 1,\n",
       "       1, 1, 1, 1, 1, 1, 1, 1, 1, 1, 1, 1, 1, 1, 1, 1, 1, 1, 1, 1, 1, 1,\n",
       "       1, 1, 1, 1, 1], dtype=int64)"
      ]
     },
     "execution_count": 306,
     "metadata": {},
     "output_type": "execute_result"
    }
   ],
   "source": [
    "#Работаем с 5 соседями:\n",
    "\n",
    "k_n5.fit(x_ntrain, y_train) #обучаем по тренировочной\n",
    "y_pk_n5 = k_n5.predict(x_ntest) #проверяем на тестовой\n",
    "\n",
    "y_pk_n5 #Прогноз\n",
    "\n"
   ]
  },
  {
   "cell_type": "code",
   "execution_count": 307,
   "metadata": {},
   "outputs": [
    {
     "data": {
      "text/plain": [
       "0.9154929577464789"
      ]
     },
     "execution_count": 307,
     "metadata": {},
     "output_type": "execute_result"
    }
   ],
   "source": [
    "#Качество прогноза для 5 соседей:\n",
    "\n",
    "precision_score(y_test, y_pk_n5) #То же самое качество"
   ]
  },
  {
   "cell_type": "code",
   "execution_count": 308,
   "metadata": {},
   "outputs": [
    {
     "data": {
      "text/plain": [
       "1.0"
      ]
     },
     "execution_count": 308,
     "metadata": {},
     "output_type": "execute_result"
    }
   ],
   "source": [
    "recall_score(y_test, y_pk_n5) #То же самое качество"
   ]
  },
  {
   "cell_type": "code",
   "execution_count": 309,
   "metadata": {},
   "outputs": [
    {
     "data": {
      "text/plain": [
       "0.9558823529411764"
      ]
     },
     "execution_count": 309,
     "metadata": {},
     "output_type": "execute_result"
    }
   ],
   "source": [
    "f1_score(y_test, y_pk_n5) #То же самое качество"
   ]
  },
  {
   "cell_type": "markdown",
   "metadata": {},
   "source": [
    "---"
   ]
  },
  {
   "cell_type": "code",
   "execution_count": 310,
   "metadata": {},
   "outputs": [
    {
     "data": {
      "text/plain": [
       "array([1, 1, 1, 1, 1, 1, 1, 1, 1, 1, 1, 1, 1, 1, 1, 1, 1, 1, 1, 1, 1, 1,\n",
       "       1, 1, 1, 1, 1, 1, 1, 1, 1, 1, 1, 1, 1, 1, 1, 1, 1, 1, 1, 1, 1, 1,\n",
       "       1, 1, 1, 1, 1, 1, 1, 1, 1, 1, 1, 1, 1, 1, 1, 1, 1, 1, 1, 1, 1, 1,\n",
       "       1, 1, 1, 1, 1], dtype=int64)"
      ]
     },
     "execution_count": 310,
     "metadata": {},
     "output_type": "execute_result"
    }
   ],
   "source": [
    "#Работаем с 7 соседями:\n",
    "\n",
    "k_n7.fit(x_ntrain, y_train) #обучаем по тренировочной\n",
    "y_pk_n7 = k_n7.predict(x_ntest) #проверяем на тестовой\n",
    "\n",
    "y_pk_n7 #Прогноз\n",
    "\n"
   ]
  },
  {
   "cell_type": "code",
   "execution_count": 311,
   "metadata": {},
   "outputs": [
    {
     "data": {
      "text/plain": [
       "0.9154929577464789"
      ]
     },
     "execution_count": 311,
     "metadata": {},
     "output_type": "execute_result"
    }
   ],
   "source": [
    "#Качество прогноза для 7 соседей:\n",
    "\n",
    "precision_score(y_test, y_pk_n7) #То же самое качество"
   ]
  },
  {
   "cell_type": "code",
   "execution_count": 312,
   "metadata": {},
   "outputs": [
    {
     "data": {
      "text/plain": [
       "1.0"
      ]
     },
     "execution_count": 312,
     "metadata": {},
     "output_type": "execute_result"
    }
   ],
   "source": [
    "recall_score(y_test, y_pk_n7) #То же самое качество"
   ]
  },
  {
   "cell_type": "code",
   "execution_count": 313,
   "metadata": {},
   "outputs": [
    {
     "data": {
      "text/plain": [
       "0.9558823529411764"
      ]
     },
     "execution_count": 313,
     "metadata": {},
     "output_type": "execute_result"
    }
   ],
   "source": [
    "f1_score(y_test, y_pk_n7) #То же самое качество"
   ]
  },
  {
   "cell_type": "markdown",
   "metadata": {},
   "source": [
    "\n",
    "<h3 style='color: #E88975;'>Все оценки качества остались прежними, шкалирование не помогло</h3>\n"
   ]
  },
  {
   "cell_type": "markdown",
   "metadata": {},
   "source": [
    "---"
   ]
  },
  {
   "cell_type": "markdown",
   "metadata": {},
   "source": [
    "<b>Тогда попробуем удалить выбросы в имеющихся признаках.</b>"
   ]
  },
  {
   "cell_type": "code",
   "execution_count": 314,
   "metadata": {},
   "outputs": [],
   "source": [
    "\n",
    "sbn = sb.copy()\n",
    "\n",
    "for i in list(sbn[rv]):\n",
    "    q1, q3 = np.percentile(sb[i], 25), np.percentile(sb[i], 75)\n",
    "    mx, mn = q3 + 1.5*(q3-q1), q1 - 1.5*(q3-q1)\n",
    "    sbn[i] = sbn[i].loc[(sbn[i] >= mn) & (sbn[i] <= mx)]\n",
    "sbn = sbn.dropna()\n",
    "\n",
    "\n",
    "#sbn"
   ]
  },
  {
   "cell_type": "markdown",
   "metadata": {},
   "source": [
    "---"
   ]
  },
  {
   "cell_type": "code",
   "execution_count": 315,
   "metadata": {},
   "outputs": [
    {
     "name": "stdout",
     "output_type": "stream",
     "text": [
      "(92, 18)\n",
      "(40, 18)\n"
     ]
    }
   ],
   "source": [
    "\n",
    "Y = sbn.LikeDegree \n",
    "X = sbn.copy().drop('LikeDegree', axis=1) \n",
    "\n",
    "x_train, x_test, y_train, y_test = tts(X, Y, test_size=0.3, random_state=200000, stratify=Y)\n",
    "\n",
    "\n",
    "print(x_train.shape)\n",
    "print(x_test.shape)\n"
   ]
  },
  {
   "cell_type": "code",
   "execution_count": 316,
   "metadata": {},
   "outputs": [],
   "source": [
    "x_train, x_test = x_train[rv], x_test[rv] \n",
    "#Возьмем только непрерывные переменные, выделенные ранее, чтобы knn работал."
   ]
  },
  {
   "cell_type": "code",
   "execution_count": 317,
   "metadata": {},
   "outputs": [],
   "source": [
    "y_train, y_test = y_train.astype('int64'), y_test.astype('int64') \n",
    "#Переведем в числовой формат (иначе Knn выдаст ошибку)."
   ]
  },
  {
   "cell_type": "markdown",
   "metadata": {},
   "source": [
    "---"
   ]
  },
  {
   "cell_type": "code",
   "execution_count": 318,
   "metadata": {},
   "outputs": [
    {
     "data": {
      "text/plain": [
       "array([1., 1., 1., 1., 1., 1., 1., 1., 1., 1., 1., 1., 1., 1., 1., 1., 1.,\n",
       "       1., 1., 1., 1., 1., 1., 1., 1., 1., 1., 1., 1., 1., 1., 1., 1., 1.,\n",
       "       1., 1., 1., 1., 1., 1.])"
      ]
     },
     "execution_count": 318,
     "metadata": {},
     "output_type": "execute_result"
    }
   ],
   "source": [
    "#Работаем с наивной выборкой:\n",
    "\n",
    "y_pn = np.ones(len(y_test)) #Спрогнозировали по Все студенты довольны (=1)\n",
    "y_pn #Вывели наивный прогноз\n"
   ]
  },
  {
   "cell_type": "code",
   "execution_count": 319,
   "metadata": {},
   "outputs": [
    {
     "data": {
      "text/plain": [
       "0.925"
      ]
     },
     "execution_count": 319,
     "metadata": {},
     "output_type": "execute_result"
    }
   ],
   "source": [
    "precision_score(y_test, y_pn)"
   ]
  },
  {
   "cell_type": "code",
   "execution_count": 320,
   "metadata": {},
   "outputs": [
    {
     "data": {
      "text/plain": [
       "1.0"
      ]
     },
     "execution_count": 320,
     "metadata": {},
     "output_type": "execute_result"
    }
   ],
   "source": [
    "recall_score(y_test, y_pn)"
   ]
  },
  {
   "cell_type": "code",
   "execution_count": 321,
   "metadata": {},
   "outputs": [
    {
     "data": {
      "text/plain": [
       "0.961038961038961"
      ]
     },
     "execution_count": 321,
     "metadata": {},
     "output_type": "execute_result"
    }
   ],
   "source": [
    "f1_score(y_test, y_pn)"
   ]
  },
  {
   "cell_type": "markdown",
   "metadata": {},
   "source": [
    "---"
   ]
  },
  {
   "cell_type": "code",
   "execution_count": 322,
   "metadata": {},
   "outputs": [],
   "source": [
    "kn3 = knn(n_neighbors = 3) #3 соседей.\n",
    "kn5 = knn(n_neighbors = 5) #5 соседей.\n",
    "kn7 = knn(n_neighbors = 7) #7 соседей."
   ]
  },
  {
   "cell_type": "code",
   "execution_count": 323,
   "metadata": {},
   "outputs": [
    {
     "data": {
      "text/plain": [
       "array([1, 1, 1, 1, 1, 1, 1, 1, 1, 1, 1, 1, 1, 1, 1, 1, 1, 1, 1, 1, 1, 1,\n",
       "       1, 1, 1, 1, 1, 1, 1, 1, 1, 1, 1, 1, 1, 1, 1, 1, 1, 1], dtype=int64)"
      ]
     },
     "execution_count": 323,
     "metadata": {},
     "output_type": "execute_result"
    }
   ],
   "source": [
    "#Работаем с 3 соседями:\n",
    "\n",
    "kn3.fit(x_train, y_train) #обучаем по тренировочной\n",
    "y_kn3 = kn3.predict(x_test) #проверяем на тестовой\n",
    "\n",
    "y_kn3 #Прогноз"
   ]
  },
  {
   "cell_type": "code",
   "execution_count": 324,
   "metadata": {},
   "outputs": [
    {
     "data": {
      "text/plain": [
       "0.925"
      ]
     },
     "execution_count": 324,
     "metadata": {},
     "output_type": "execute_result"
    }
   ],
   "source": [
    "precision_score(y_test, y_kn3)"
   ]
  },
  {
   "cell_type": "code",
   "execution_count": 325,
   "metadata": {},
   "outputs": [
    {
     "data": {
      "text/plain": [
       "1.0"
      ]
     },
     "execution_count": 325,
     "metadata": {},
     "output_type": "execute_result"
    }
   ],
   "source": [
    "recall_score(y_test, y_kn3)"
   ]
  },
  {
   "cell_type": "code",
   "execution_count": 326,
   "metadata": {},
   "outputs": [
    {
     "data": {
      "text/plain": [
       "0.961038961038961"
      ]
     },
     "execution_count": 326,
     "metadata": {},
     "output_type": "execute_result"
    }
   ],
   "source": [
    "f1_score(y_test, y_kn3)"
   ]
  },
  {
   "cell_type": "markdown",
   "metadata": {},
   "source": [
    "---"
   ]
  },
  {
   "cell_type": "code",
   "execution_count": 327,
   "metadata": {},
   "outputs": [
    {
     "data": {
      "text/plain": [
       "array([1, 1, 1, 1, 1, 1, 1, 1, 1, 1, 1, 1, 1, 1, 1, 1, 1, 1, 1, 1, 1, 1,\n",
       "       1, 1, 1, 1, 1, 1, 1, 1, 1, 1, 1, 1, 1, 1, 1, 1, 1, 1], dtype=int64)"
      ]
     },
     "execution_count": 327,
     "metadata": {},
     "output_type": "execute_result"
    }
   ],
   "source": [
    "#Работаем с 5 соседями:\n",
    "\n",
    "kn5.fit(x_train, y_train) #обучаем по тренировочной\n",
    "y_kn5 = kn5.predict(x_test) #проверяем на тестовой\n",
    "\n",
    "y_kn5 #Прогноз\n"
   ]
  },
  {
   "cell_type": "code",
   "execution_count": 328,
   "metadata": {},
   "outputs": [
    {
     "data": {
      "text/plain": [
       "0.925"
      ]
     },
     "execution_count": 328,
     "metadata": {},
     "output_type": "execute_result"
    }
   ],
   "source": [
    "precision_score(y_test, y_kn5)"
   ]
  },
  {
   "cell_type": "code",
   "execution_count": 329,
   "metadata": {},
   "outputs": [
    {
     "data": {
      "text/plain": [
       "1.0"
      ]
     },
     "execution_count": 329,
     "metadata": {},
     "output_type": "execute_result"
    }
   ],
   "source": [
    "recall_score(y_test, y_kn5)"
   ]
  },
  {
   "cell_type": "code",
   "execution_count": 330,
   "metadata": {},
   "outputs": [
    {
     "data": {
      "text/plain": [
       "0.961038961038961"
      ]
     },
     "execution_count": 330,
     "metadata": {},
     "output_type": "execute_result"
    }
   ],
   "source": [
    "f1_score(y_test, y_kn5)"
   ]
  },
  {
   "cell_type": "markdown",
   "metadata": {},
   "source": [
    "---"
   ]
  },
  {
   "cell_type": "code",
   "execution_count": 331,
   "metadata": {},
   "outputs": [
    {
     "data": {
      "text/plain": [
       "array([1, 1, 1, 1, 1, 1, 1, 1, 1, 1, 1, 1, 1, 1, 1, 1, 1, 1, 1, 1, 1, 1,\n",
       "       1, 1, 1, 1, 1, 1, 1, 1, 1, 1, 1, 1, 1, 1, 1, 1, 1, 1], dtype=int64)"
      ]
     },
     "execution_count": 331,
     "metadata": {},
     "output_type": "execute_result"
    }
   ],
   "source": [
    "#Работаем с 7 соседями:\n",
    "\n",
    "kn7.fit(x_train, y_train) #обучаем по тренировочной\n",
    "y_kn7 = kn7.predict(x_test) #проверяем на тестовой\n",
    "\n",
    "y_kn7 #Прогноз\n"
   ]
  },
  {
   "cell_type": "code",
   "execution_count": 332,
   "metadata": {},
   "outputs": [
    {
     "data": {
      "text/plain": [
       "0.925"
      ]
     },
     "execution_count": 332,
     "metadata": {},
     "output_type": "execute_result"
    }
   ],
   "source": [
    "precision_score(y_test, y_kn7)"
   ]
  },
  {
   "cell_type": "code",
   "execution_count": 333,
   "metadata": {},
   "outputs": [
    {
     "data": {
      "text/plain": [
       "1.0"
      ]
     },
     "execution_count": 333,
     "metadata": {},
     "output_type": "execute_result"
    }
   ],
   "source": [
    "recall_score(y_test, y_kn7)"
   ]
  },
  {
   "cell_type": "code",
   "execution_count": 334,
   "metadata": {},
   "outputs": [
    {
     "data": {
      "text/plain": [
       "0.961038961038961"
      ]
     },
     "execution_count": 334,
     "metadata": {},
     "output_type": "execute_result"
    }
   ],
   "source": [
    "f1_score(y_test, y_kn7)"
   ]
  },
  {
   "cell_type": "markdown",
   "metadata": {},
   "source": [
    "Результаты качеств изменились после удаления выбросов, но по прежнему все метрики качеств выдают равные результаты."
   ]
  },
  {
   "cell_type": "markdown",
   "metadata": {},
   "source": [
    "\n",
    "Сложно в данном случае назвать лучшую модель, все они, скорее, некачественные, тк. вне зависимости от увеличения соседей, показатели метрик не меняются, более того, качественность моделей остается такой же, как и при наивном прогнозе, что очень плохо, обычно при изменении кол-ва соседей можно отслеживать моменты \"обучения\" и \"переобучения\" машины, когда качественность прогнозов ухудшается. В данном же случае, такого не происходит, поэтому создается впечатление, что мышина не обучается. Возможно проблема в дисбалансе классов или маленькой выборке, либо в том и в другом вместе. \n",
    "\n",
    "Если приходится оценивать модели из имеющихся, то ВСЕ модели (наивная; при 3, 5, 7 соседях) после удаления выбросов имеют более высокие результаты предсказаний (тк. значения метрик качества выше).\n",
    "\n"
   ]
  },
  {
   "cell_type": "markdown",
   "metadata": {},
   "source": [
    "---"
   ]
  }
 ],
 "metadata": {
  "kernelspec": {
   "display_name": "Python 3 (ipykernel)",
   "language": "python",
   "name": "python3"
  },
  "language_info": {
   "codemirror_mode": {
    "name": "ipython",
    "version": 3
   },
   "file_extension": ".py",
   "mimetype": "text/x-python",
   "name": "python",
   "nbconvert_exporter": "python",
   "pygments_lexer": "ipython3",
   "version": "3.9.0"
  }
 },
 "nbformat": 4,
 "nbformat_minor": 4
}
